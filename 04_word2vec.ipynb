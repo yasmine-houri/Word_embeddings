{
  "cells": [
    {
      "cell_type": "markdown",
      "metadata": {
        "id": "473480ae-29be-4ebf-a55a-9bea2ba42e02"
      },
      "source": [
        "# Méthodes de vectorisation : comptages et word embeddings"
      ],
      "id": "473480ae-29be-4ebf-a55a-9bea2ba42e02"
    },
    {
      "cell_type": "markdown",
      "metadata": {
        "id": "07b52d0b-915a-4c20-a241-d16b8f784aed"
      },
      "source": [
        "<p class=\"badges\">\n",
        "\n",
        "<a href=\"https://github.com/linogaliana/python-datascientist/blob/master/notebooks/course/NLP/04_word2vec.ipynb\" class=\"github\"><i class=\"fab fa-github\"></i></a>\n",
        "<a href=\"https://downgit.github.io/#/home?url=https://github.com/linogaliana/python-datascientist/blob/master/notebooks/course/NLP/04_word2vec.ipynb\" target=\"_blank\" rel=\"noopener\"><img src=\"https://img.shields.io/badge/Download-Notebook-important?logo=Jupyter\" alt=\"Download\"></a>\n",
        "<a href=\"https://nbviewer.jupyter.org/github/linogaliana/python-datascientist/blob/master/notebooks/course/NLP/04_word2vec.ipynb\" target=\"_blank\" rel=\"noopener\"><img src=\"https://img.shields.io/badge/Visualize-nbviewer-blue?logo=Jupyter\" alt=\"nbviewer\"></a>\n",
        "<a href=\"https://datalab.sspcloud.fr/launcher/inseefrlab-helm-charts-datascience/jupyter?autoLaunch=true&onyxia.friendlyName=%C2%ABpython-datascience%C2%BB&init.personalInit=%C2%ABhttps%3A%2F%2Fraw.githubusercontent.com%2Flinogaliana%2Fpython-datascientist%2Fmaster%2Fsspcloud%2Finit-jupyter.sh%C2%BB&init.personalInitArgs=%C2%ABnotebooks/course/NLP/04_word2vec.ipynb%C2%BB&security.allowlist.enabled=false\" target=\"_blank\" rel=\"noopener\"><img src=\"https://img.shields.io/badge/SSPcloud-Tester%20via%20SSP--cloud-informational&amp;color=yellow?logo=Python\" alt=\"Onyxia\"></a><br>\n",
        "<a href=\"https://mybinder.org/v2/gh/linogaliana/python-datascientist/master?filepath={binder_path}\" target=\"_blank\" rel=\"noopener\"><img src=\"https://img.shields.io/badge/Launch-Binder-E66581.svg?logo=data:image/png;base64,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\" alt=\"Binder\"></a>\n",
        "<a href=\"http://colab.research.google.com/github/linogaliana/python-datascientist/blob/master/notebooks/course/NLP/04_word2vec.ipynb\" target=\"_blank\" rel=\"noopener\"><img src=\"https://colab.research.google.com/assets/colab-badge.svg\" alt=\"Open In Colab\"></a>\n",
        "<a href=\"https://github.dev/linogaliana/python-datascientist/notebooks/course/NLP/04_word2vec.ipynb\" target=\"_blank\" rel=\"noopener\"><img src=\"https://img.shields.io/static/v1?logo=visualstudiocode&label=&message=Open%20in%20Visual%20Studio%20Code&labelColor=2c2c32&color=007acc&logoColor=007acc\" alt=\"githubdev\"></a>\n",
        "\n",
        "</p>\n",
        "\n",
        "</p>"
      ],
      "id": "07b52d0b-915a-4c20-a241-d16b8f784aed"
    },
    {
      "cell_type": "markdown",
      "metadata": {
        "id": "d8391f80-7cd2-443c-84d0-ba4b1e90f45f"
      },
      "source": [
        "Cette page approfondit certains aspects présentés dans la\n",
        "[partie introductive](#nlp). Après avoir travaillé sur le\n",
        "*Comte de Monte Cristo*, on va continuer notre exploration de la littérature\n",
        "avec cette fois des auteurs anglophones:\n",
        "\n",
        "-   Edgar Allan Poe, (EAP) ;\n",
        "-   HP Lovecraft (HPL) ;\n",
        "-   Mary Wollstonecraft Shelley (MWS).\n",
        "\n",
        "Les données sont disponibles ici : [spooky.csv](https://github.com/GU4243-ADS/spring2018-project1-ginnyqg/blob/master/data/spooky.csv) et peuvent être requétées via l’url\n",
        "<https://github.com/GU4243-ADS/spring2018-project1-ginnyqg/raw/master/data/spooky.csv>.\n",
        "\n",
        "Le but va être dans un premier temps de regarder dans le détail les termes les plus fréquents utilisés par les auteurs, de les représenter graphiquement puis on va ensuite essayer de prédire quel texte correspond à quel auteur à partir de différents modèles de vectorisation, notamment les *word embeddings*.\n",
        "\n",
        "Ce notebook est librement inspiré de :\n",
        "\n",
        "-   https://www.kaggle.com/enerrio/scary-nlp-with-spacy-and-keras\n",
        "-   https://github.com/GU4243-ADS/spring2018-project1-ginnyqg\n",
        "-   https://www.kaggle.com/meiyizi/spooky-nlp-and-topic-modelling-tutorial/notebook"
      ],
      "id": "d8391f80-7cd2-443c-84d0-ba4b1e90f45f"
    },
    {
      "cell_type": "markdown",
      "metadata": {
        "id": "22115409-50e5-4d90-b6b2-7f368d7cf733"
      },
      "source": [
        "<div class=\"alert alert-danger\" role=\"alert\">\n",
        "\n",
        "Comme dans la [partie précédente](#nlp), il faut télécharger quelques éléments\n",
        "pour que nos librairies de NLP puissent fonctionner correctement.\n",
        "\n",
        "En premier lieu, il convient d’installer les librairies adéquates\n",
        "(`spacy`, `gensim` et `sentence_transformers`):\n",
        "\n",
        "``` python\n",
        "!pip install spacy gensim sentence_transformers\n",
        "```\n",
        "\n",
        "Ensuite, comme nous allons utiliser également `spacy`, il convient de télécharger\n",
        "le corpus Anglais. Pour cela, on peut se référer à\n",
        "[la documentation de `spacy`](https://spacy.io/usage/models),\n",
        "extrêmement bien faite.\n",
        "\n",
        "-   Idéalement, il faut installer le module via la ligne de commande. Dans\n",
        "    une cellule de notebook `Jupyter`, faire :\n",
        "\n",
        "``` python\n",
        "!python -m spacy download en_core_web_sm\n",
        "```\n",
        "\n",
        "-   Sans accès à la ligne de commande (depuis une instance `Docker` par exemple),\n",
        "    faire :\n",
        "\n",
        "``` python\n",
        "import spacy\n",
        "spacy.cli.download(\"en_core_web_sm\")\n",
        "```\n",
        "\n",
        "-   Sinon, il est également possible d’installer le module en faisant pointer\n",
        "    `pip install` vers le fichier adéquat sur\n",
        "    [`Github`](https://github.com/explosion/spacy-models). Pour cela, taper\n",
        "\n",
        "``` python\n",
        "pip install https://github.com/explosion/spacy-models/releases/download/en_core_web_sm-3.0.0/en_core_web_sm-3.0.0-py3-none-any.whl\n",
        "```\n",
        "\n",
        "</div>"
      ],
      "id": "22115409-50e5-4d90-b6b2-7f368d7cf733"
    },
    {
      "cell_type": "code",
      "source": [
        "!pip install spacy gensim sentence_transformers\n",
        "!python -m spacy download en_core_web_sm\n",
        "import spacy\n",
        "spacy.cli.download(\"en_core_web_sm\")"
      ],
      "metadata": {
        "id": "Noeh420SZuTd",
        "outputId": "608603bb-db77-4898-cfa2-8de0a3c7109a",
        "colab": {
          "base_uri": "https://localhost:8080/"
        }
      },
      "id": "Noeh420SZuTd",
      "execution_count": 2,
      "outputs": [
        {
          "output_type": "stream",
          "name": "stdout",
          "text": [
            "Looking in indexes: https://pypi.org/simple, https://us-python.pkg.dev/colab-wheels/public/simple/\n",
            "Requirement already satisfied: spacy in /usr/local/lib/python3.7/dist-packages (3.4.1)\n",
            "Requirement already satisfied: gensim in /usr/local/lib/python3.7/dist-packages (3.6.0)\n",
            "Collecting sentence_transformers\n",
            "  Downloading sentence-transformers-2.2.2.tar.gz (85 kB)\n",
            "\u001b[K     |████████████████████████████████| 85 kB 4.2 MB/s \n",
            "\u001b[?25hRequirement already satisfied: thinc<8.2.0,>=8.1.0 in /usr/local/lib/python3.7/dist-packages (from spacy) (8.1.0)\n",
            "Requirement already satisfied: preshed<3.1.0,>=3.0.2 in /usr/local/lib/python3.7/dist-packages (from spacy) (3.0.7)\n",
            "Requirement already satisfied: requests<3.0.0,>=2.13.0 in /usr/local/lib/python3.7/dist-packages (from spacy) (2.23.0)\n",
            "Requirement already satisfied: srsly<3.0.0,>=2.4.3 in /usr/local/lib/python3.7/dist-packages (from spacy) (2.4.4)\n",
            "Requirement already satisfied: wasabi<1.1.0,>=0.9.1 in /usr/local/lib/python3.7/dist-packages (from spacy) (0.10.1)\n",
            "Requirement already satisfied: langcodes<4.0.0,>=3.2.0 in /usr/local/lib/python3.7/dist-packages (from spacy) (3.3.0)\n",
            "Requirement already satisfied: typer<0.5.0,>=0.3.0 in /usr/local/lib/python3.7/dist-packages (from spacy) (0.4.2)\n",
            "Requirement already satisfied: spacy-loggers<2.0.0,>=1.0.0 in /usr/local/lib/python3.7/dist-packages (from spacy) (1.0.3)\n",
            "Requirement already satisfied: packaging>=20.0 in /usr/local/lib/python3.7/dist-packages (from spacy) (21.3)\n",
            "Requirement already satisfied: numpy>=1.15.0 in /usr/local/lib/python3.7/dist-packages (from spacy) (1.21.6)\n",
            "Requirement already satisfied: catalogue<2.1.0,>=2.0.6 in /usr/local/lib/python3.7/dist-packages (from spacy) (2.0.8)\n",
            "Requirement already satisfied: pathy>=0.3.5 in /usr/local/lib/python3.7/dist-packages (from spacy) (0.6.2)\n",
            "Requirement already satisfied: typing-extensions<4.2.0,>=3.7.4 in /usr/local/lib/python3.7/dist-packages (from spacy) (4.1.1)\n",
            "Requirement already satisfied: spacy-legacy<3.1.0,>=3.0.9 in /usr/local/lib/python3.7/dist-packages (from spacy) (3.0.10)\n",
            "Requirement already satisfied: murmurhash<1.1.0,>=0.28.0 in /usr/local/lib/python3.7/dist-packages (from spacy) (1.0.8)\n",
            "Requirement already satisfied: cymem<2.1.0,>=2.0.2 in /usr/local/lib/python3.7/dist-packages (from spacy) (2.0.6)\n",
            "Requirement already satisfied: pydantic!=1.8,!=1.8.1,<1.10.0,>=1.7.4 in /usr/local/lib/python3.7/dist-packages (from spacy) (1.9.2)\n",
            "Requirement already satisfied: setuptools in /usr/local/lib/python3.7/dist-packages (from spacy) (57.4.0)\n",
            "Requirement already satisfied: tqdm<5.0.0,>=4.38.0 in /usr/local/lib/python3.7/dist-packages (from spacy) (4.64.1)\n",
            "Requirement already satisfied: jinja2 in /usr/local/lib/python3.7/dist-packages (from spacy) (2.11.3)\n",
            "Requirement already satisfied: zipp>=0.5 in /usr/local/lib/python3.7/dist-packages (from catalogue<2.1.0,>=2.0.6->spacy) (3.8.1)\n",
            "Requirement already satisfied: pyparsing!=3.0.5,>=2.0.2 in /usr/local/lib/python3.7/dist-packages (from packaging>=20.0->spacy) (3.0.9)\n",
            "Requirement already satisfied: smart-open<6.0.0,>=5.2.1 in /usr/local/lib/python3.7/dist-packages (from pathy>=0.3.5->spacy) (5.2.1)\n",
            "Requirement already satisfied: idna<3,>=2.5 in /usr/local/lib/python3.7/dist-packages (from requests<3.0.0,>=2.13.0->spacy) (2.10)\n",
            "Requirement already satisfied: urllib3!=1.25.0,!=1.25.1,<1.26,>=1.21.1 in /usr/local/lib/python3.7/dist-packages (from requests<3.0.0,>=2.13.0->spacy) (1.24.3)\n",
            "Requirement already satisfied: chardet<4,>=3.0.2 in /usr/local/lib/python3.7/dist-packages (from requests<3.0.0,>=2.13.0->spacy) (3.0.4)\n",
            "Requirement already satisfied: certifi>=2017.4.17 in /usr/local/lib/python3.7/dist-packages (from requests<3.0.0,>=2.13.0->spacy) (2022.6.15)\n",
            "Requirement already satisfied: blis<0.8.0,>=0.7.8 in /usr/local/lib/python3.7/dist-packages (from thinc<8.2.0,>=8.1.0->spacy) (0.7.8)\n",
            "Requirement already satisfied: click<9.0.0,>=7.1.1 in /usr/local/lib/python3.7/dist-packages (from typer<0.5.0,>=0.3.0->spacy) (7.1.2)\n",
            "Requirement already satisfied: scipy>=0.18.1 in /usr/local/lib/python3.7/dist-packages (from gensim) (1.7.3)\n",
            "Requirement already satisfied: six>=1.5.0 in /usr/local/lib/python3.7/dist-packages (from gensim) (1.15.0)\n",
            "Collecting transformers<5.0.0,>=4.6.0\n",
            "  Downloading transformers-4.22.1-py3-none-any.whl (4.9 MB)\n",
            "\u001b[K     |████████████████████████████████| 4.9 MB 51.6 MB/s \n",
            "\u001b[?25hRequirement already satisfied: torch>=1.6.0 in /usr/local/lib/python3.7/dist-packages (from sentence_transformers) (1.12.1+cu113)\n",
            "Requirement already satisfied: torchvision in /usr/local/lib/python3.7/dist-packages (from sentence_transformers) (0.13.1+cu113)\n",
            "Requirement already satisfied: scikit-learn in /usr/local/lib/python3.7/dist-packages (from sentence_transformers) (1.0.2)\n",
            "Requirement already satisfied: nltk in /usr/local/lib/python3.7/dist-packages (from sentence_transformers) (3.7)\n",
            "Collecting sentencepiece\n",
            "  Downloading sentencepiece-0.1.97-cp37-cp37m-manylinux_2_17_x86_64.manylinux2014_x86_64.whl (1.3 MB)\n",
            "\u001b[K     |████████████████████████████████| 1.3 MB 52.0 MB/s \n",
            "\u001b[?25hCollecting huggingface-hub>=0.4.0\n",
            "  Downloading huggingface_hub-0.9.1-py3-none-any.whl (120 kB)\n",
            "\u001b[K     |████████████████████████████████| 120 kB 49.0 MB/s \n",
            "\u001b[?25hRequirement already satisfied: filelock in /usr/local/lib/python3.7/dist-packages (from huggingface-hub>=0.4.0->sentence_transformers) (3.8.0)\n",
            "Requirement already satisfied: pyyaml>=5.1 in /usr/local/lib/python3.7/dist-packages (from huggingface-hub>=0.4.0->sentence_transformers) (6.0)\n",
            "Requirement already satisfied: importlib-metadata in /usr/local/lib/python3.7/dist-packages (from huggingface-hub>=0.4.0->sentence_transformers) (4.12.0)\n",
            "Requirement already satisfied: regex!=2019.12.17 in /usr/local/lib/python3.7/dist-packages (from transformers<5.0.0,>=4.6.0->sentence_transformers) (2022.6.2)\n",
            "Collecting tokenizers!=0.11.3,<0.13,>=0.11.1\n",
            "  Downloading tokenizers-0.12.1-cp37-cp37m-manylinux_2_12_x86_64.manylinux2010_x86_64.whl (6.6 MB)\n",
            "\u001b[K     |████████████████████████████████| 6.6 MB 51.4 MB/s \n",
            "\u001b[?25hRequirement already satisfied: MarkupSafe>=0.23 in /usr/local/lib/python3.7/dist-packages (from jinja2->spacy) (2.0.1)\n",
            "Requirement already satisfied: joblib in /usr/local/lib/python3.7/dist-packages (from nltk->sentence_transformers) (1.1.0)\n",
            "Requirement already satisfied: threadpoolctl>=2.0.0 in /usr/local/lib/python3.7/dist-packages (from scikit-learn->sentence_transformers) (3.1.0)\n",
            "Requirement already satisfied: pillow!=8.3.*,>=5.3.0 in /usr/local/lib/python3.7/dist-packages (from torchvision->sentence_transformers) (7.1.2)\n",
            "Building wheels for collected packages: sentence-transformers\n",
            "  Building wheel for sentence-transformers (setup.py) ... \u001b[?25l\u001b[?25hdone\n",
            "  Created wheel for sentence-transformers: filename=sentence_transformers-2.2.2-py3-none-any.whl size=125938 sha256=c5c9f8b57da6bfec2c7ea64943955938931e10b120b4a7c7a003ed9327115880\n",
            "  Stored in directory: /root/.cache/pip/wheels/bf/06/fb/d59c1e5bd1dac7f6cf61ec0036cc3a10ab8fecaa6b2c3d3ee9\n",
            "Successfully built sentence-transformers\n",
            "Installing collected packages: tokenizers, huggingface-hub, transformers, sentencepiece, sentence-transformers\n",
            "Successfully installed huggingface-hub-0.9.1 sentence-transformers-2.2.2 sentencepiece-0.1.97 tokenizers-0.12.1 transformers-4.22.1\n",
            "2022-09-27 14:43:51.837965: E tensorflow/stream_executor/cuda/cuda_driver.cc:271] failed call to cuInit: CUDA_ERROR_NO_DEVICE: no CUDA-capable device is detected\n",
            "Looking in indexes: https://pypi.org/simple, https://us-python.pkg.dev/colab-wheels/public/simple/\n",
            "Collecting en-core-web-sm==3.4.0\n",
            "  Downloading https://github.com/explosion/spacy-models/releases/download/en_core_web_sm-3.4.0/en_core_web_sm-3.4.0-py3-none-any.whl (12.8 MB)\n",
            "\u001b[K     |████████████████████████████████| 12.8 MB 32.3 MB/s \n",
            "\u001b[?25hRequirement already satisfied: spacy<3.5.0,>=3.4.0 in /usr/local/lib/python3.7/dist-packages (from en-core-web-sm==3.4.0) (3.4.1)\n",
            "Requirement already satisfied: requests<3.0.0,>=2.13.0 in /usr/local/lib/python3.7/dist-packages (from spacy<3.5.0,>=3.4.0->en-core-web-sm==3.4.0) (2.23.0)\n",
            "Requirement already satisfied: thinc<8.2.0,>=8.1.0 in /usr/local/lib/python3.7/dist-packages (from spacy<3.5.0,>=3.4.0->en-core-web-sm==3.4.0) (8.1.0)\n",
            "Requirement already satisfied: preshed<3.1.0,>=3.0.2 in /usr/local/lib/python3.7/dist-packages (from spacy<3.5.0,>=3.4.0->en-core-web-sm==3.4.0) (3.0.7)\n",
            "Requirement already satisfied: jinja2 in /usr/local/lib/python3.7/dist-packages (from spacy<3.5.0,>=3.4.0->en-core-web-sm==3.4.0) (2.11.3)\n",
            "Requirement already satisfied: typer<0.5.0,>=0.3.0 in /usr/local/lib/python3.7/dist-packages (from spacy<3.5.0,>=3.4.0->en-core-web-sm==3.4.0) (0.4.2)\n",
            "Requirement already satisfied: srsly<3.0.0,>=2.4.3 in /usr/local/lib/python3.7/dist-packages (from spacy<3.5.0,>=3.4.0->en-core-web-sm==3.4.0) (2.4.4)\n",
            "Requirement already satisfied: setuptools in /usr/local/lib/python3.7/dist-packages (from spacy<3.5.0,>=3.4.0->en-core-web-sm==3.4.0) (57.4.0)\n",
            "Requirement already satisfied: catalogue<2.1.0,>=2.0.6 in /usr/local/lib/python3.7/dist-packages (from spacy<3.5.0,>=3.4.0->en-core-web-sm==3.4.0) (2.0.8)\n",
            "Requirement already satisfied: packaging>=20.0 in /usr/local/lib/python3.7/dist-packages (from spacy<3.5.0,>=3.4.0->en-core-web-sm==3.4.0) (21.3)\n",
            "Requirement already satisfied: wasabi<1.1.0,>=0.9.1 in /usr/local/lib/python3.7/dist-packages (from spacy<3.5.0,>=3.4.0->en-core-web-sm==3.4.0) (0.10.1)\n",
            "Requirement already satisfied: pathy>=0.3.5 in /usr/local/lib/python3.7/dist-packages (from spacy<3.5.0,>=3.4.0->en-core-web-sm==3.4.0) (0.6.2)\n",
            "Requirement already satisfied: spacy-legacy<3.1.0,>=3.0.9 in /usr/local/lib/python3.7/dist-packages (from spacy<3.5.0,>=3.4.0->en-core-web-sm==3.4.0) (3.0.10)\n",
            "Requirement already satisfied: murmurhash<1.1.0,>=0.28.0 in /usr/local/lib/python3.7/dist-packages (from spacy<3.5.0,>=3.4.0->en-core-web-sm==3.4.0) (1.0.8)\n",
            "Requirement already satisfied: cymem<2.1.0,>=2.0.2 in /usr/local/lib/python3.7/dist-packages (from spacy<3.5.0,>=3.4.0->en-core-web-sm==3.4.0) (2.0.6)\n",
            "Requirement already satisfied: spacy-loggers<2.0.0,>=1.0.0 in /usr/local/lib/python3.7/dist-packages (from spacy<3.5.0,>=3.4.0->en-core-web-sm==3.4.0) (1.0.3)\n",
            "Requirement already satisfied: tqdm<5.0.0,>=4.38.0 in /usr/local/lib/python3.7/dist-packages (from spacy<3.5.0,>=3.4.0->en-core-web-sm==3.4.0) (4.64.1)\n",
            "Requirement already satisfied: langcodes<4.0.0,>=3.2.0 in /usr/local/lib/python3.7/dist-packages (from spacy<3.5.0,>=3.4.0->en-core-web-sm==3.4.0) (3.3.0)\n",
            "Requirement already satisfied: pydantic!=1.8,!=1.8.1,<1.10.0,>=1.7.4 in /usr/local/lib/python3.7/dist-packages (from spacy<3.5.0,>=3.4.0->en-core-web-sm==3.4.0) (1.9.2)\n",
            "Requirement already satisfied: typing-extensions<4.2.0,>=3.7.4 in /usr/local/lib/python3.7/dist-packages (from spacy<3.5.0,>=3.4.0->en-core-web-sm==3.4.0) (4.1.1)\n",
            "Requirement already satisfied: numpy>=1.15.0 in /usr/local/lib/python3.7/dist-packages (from spacy<3.5.0,>=3.4.0->en-core-web-sm==3.4.0) (1.21.6)\n",
            "Requirement already satisfied: zipp>=0.5 in /usr/local/lib/python3.7/dist-packages (from catalogue<2.1.0,>=2.0.6->spacy<3.5.0,>=3.4.0->en-core-web-sm==3.4.0) (3.8.1)\n",
            "Requirement already satisfied: pyparsing!=3.0.5,>=2.0.2 in /usr/local/lib/python3.7/dist-packages (from packaging>=20.0->spacy<3.5.0,>=3.4.0->en-core-web-sm==3.4.0) (3.0.9)\n",
            "Requirement already satisfied: smart-open<6.0.0,>=5.2.1 in /usr/local/lib/python3.7/dist-packages (from pathy>=0.3.5->spacy<3.5.0,>=3.4.0->en-core-web-sm==3.4.0) (5.2.1)\n",
            "Requirement already satisfied: chardet<4,>=3.0.2 in /usr/local/lib/python3.7/dist-packages (from requests<3.0.0,>=2.13.0->spacy<3.5.0,>=3.4.0->en-core-web-sm==3.4.0) (3.0.4)\n",
            "Requirement already satisfied: certifi>=2017.4.17 in /usr/local/lib/python3.7/dist-packages (from requests<3.0.0,>=2.13.0->spacy<3.5.0,>=3.4.0->en-core-web-sm==3.4.0) (2022.6.15)\n",
            "Requirement already satisfied: urllib3!=1.25.0,!=1.25.1,<1.26,>=1.21.1 in /usr/local/lib/python3.7/dist-packages (from requests<3.0.0,>=2.13.0->spacy<3.5.0,>=3.4.0->en-core-web-sm==3.4.0) (1.24.3)\n",
            "Requirement already satisfied: idna<3,>=2.5 in /usr/local/lib/python3.7/dist-packages (from requests<3.0.0,>=2.13.0->spacy<3.5.0,>=3.4.0->en-core-web-sm==3.4.0) (2.10)\n",
            "Requirement already satisfied: blis<0.8.0,>=0.7.8 in /usr/local/lib/python3.7/dist-packages (from thinc<8.2.0,>=8.1.0->spacy<3.5.0,>=3.4.0->en-core-web-sm==3.4.0) (0.7.8)\n",
            "Requirement already satisfied: click<9.0.0,>=7.1.1 in /usr/local/lib/python3.7/dist-packages (from typer<0.5.0,>=0.3.0->spacy<3.5.0,>=3.4.0->en-core-web-sm==3.4.0) (7.1.2)\n",
            "Requirement already satisfied: MarkupSafe>=0.23 in /usr/local/lib/python3.7/dist-packages (from jinja2->spacy<3.5.0,>=3.4.0->en-core-web-sm==3.4.0) (2.0.1)\n",
            "\u001b[38;5;2m✔ Download and installation successful\u001b[0m\n",
            "You can now load the package via spacy.load('en_core_web_sm')\n",
            "\u001b[38;5;2m✔ Download and installation successful\u001b[0m\n",
            "You can now load the package via spacy.load('en_core_web_sm')\n"
          ]
        }
      ]
    },
    {
      "cell_type": "code",
      "execution_count": 3,
      "metadata": {
        "id": "ece0e0ff-818c-46a3-8930-75c398642ad6",
        "outputId": "0202526d-45cb-46c1-a6f2-ed319e8810b1",
        "colab": {
          "base_uri": "https://localhost:8080/",
          "height": 104,
          "referenced_widgets": [
            "959fd0341e6043678365dd0294dd6f56",
            "cadbef2203c74506a1d689c455b5437b",
            "00e18d685d4d49a096bdf7969bc5303c",
            "14011fd9340f42f8905688903b33add4",
            "564c7b1a35424db6a7cf3554e982da04",
            "1b70115eeb674404a906a2b3a49680af",
            "ae9eac63948b4b69b42e56fcf666807e",
            "988902b4828f45a9af6fd87dea3a3a71",
            "ddf90cf2f2c448988edb4f99064580c2",
            "b5004edcb4364a96bce36e5723545b02",
            "6c4ce369d7984a9f95827315a3ad1c79"
          ]
        }
      },
      "outputs": [
        {
          "output_type": "stream",
          "name": "stderr",
          "text": [
            "The cache for model files in Transformers v4.22.0 has been updated. Migrating your old cache. This is a one-time only operation. You can interrupt this and resume the migration later on by calling `transformers.utils.move_cache()`.\n"
          ]
        },
        {
          "output_type": "stream",
          "name": "stdout",
          "text": [
            "Moving 0 files to the new cache system\n"
          ]
        },
        {
          "output_type": "display_data",
          "data": {
            "text/plain": [
              "0it [00:00, ?it/s]"
            ],
            "application/vnd.jupyter.widget-view+json": {
              "version_major": 2,
              "version_minor": 0,
              "model_id": "959fd0341e6043678365dd0294dd6f56"
            }
          },
          "metadata": {}
        }
      ],
      "source": [
        "from collections import Counter\n",
        "\n",
        "import numpy as np\n",
        "import pandas as pd\n",
        "import matplotlib.pyplot as plt\n",
        "import seaborn as sns\n",
        "import gensim\n",
        "\n",
        "from sklearn.preprocessing import LabelEncoder\n",
        "from sklearn.model_selection import train_test_split\n",
        "from sklearn.pipeline import Pipeline\n",
        "from sklearn.preprocessing import StandardScaler\n",
        "from sklearn.svm import LinearSVC\n",
        "from sklearn.feature_extraction.text import CountVectorizer, TfidfVectorizer\n",
        "from sklearn.model_selection import GridSearchCV, cross_val_score\n",
        "\n",
        "from gensim.models.word2vec import Word2Vec\n",
        "import gensim.downloader\n",
        "from sentence_transformers import SentenceTransformer"
      ],
      "id": "ece0e0ff-818c-46a3-8930-75c398642ad6"
    },
    {
      "cell_type": "markdown",
      "metadata": {
        "id": "90528d59-3e7f-4c50-ac08-2df7de05d292"
      },
      "source": [
        "# Nettoyage des données\n",
        "\n",
        "Nous allons ainsi à nouveau utiliser le jeu de données `spooky`:"
      ],
      "id": "90528d59-3e7f-4c50-ac08-2df7de05d292"
    },
    {
      "cell_type": "code",
      "execution_count": 4,
      "metadata": {
        "id": "c86194dc-3674-422b-8e67-dcea3fdc2567"
      },
      "outputs": [],
      "source": [
        "data_url = 'https://github.com/GU4243-ADS/spring2018-project1-ginnyqg/raw/master/data/spooky.csv'\n",
        "spooky_df = pd.read_csv(data_url)"
      ],
      "id": "c86194dc-3674-422b-8e67-dcea3fdc2567"
    },
    {
      "cell_type": "markdown",
      "metadata": {
        "id": "0a188fc0-c07f-45a1-af86-b6671eae8bc7"
      },
      "source": [
        "Le jeu de données met ainsi en regard un auteur avec une phrase qu’il a écrite:"
      ],
      "id": "0a188fc0-c07f-45a1-af86-b6671eae8bc7"
    },
    {
      "cell_type": "code",
      "execution_count": 5,
      "metadata": {
        "id": "ea33ffc1-4e88-490b-ba44-2a1a262afcc1",
        "outputId": "3bc0d97a-999f-4209-ea17-074a6348bf91",
        "colab": {
          "base_uri": "https://localhost:8080/",
          "height": 206
        }
      },
      "outputs": [
        {
          "output_type": "execute_result",
          "data": {
            "text/plain": [
              "        id                                               text author\n",
              "0  id26305  This process, however, afforded me no means of...    EAP\n",
              "1  id17569  It never once occurred to me that the fumbling...    HPL\n",
              "2  id11008  In his left hand was a gold snuff box, from wh...    EAP\n",
              "3  id27763  How lovely is spring As we looked from Windsor...    MWS\n",
              "4  id12958  Finding nothing else, not even gold, the Super...    HPL"
            ],
            "text/html": [
              "\n",
              "  <div id=\"df-84eed619-bb22-446c-b029-a6b97303043b\">\n",
              "    <div class=\"colab-df-container\">\n",
              "      <div>\n",
              "<style scoped>\n",
              "    .dataframe tbody tr th:only-of-type {\n",
              "        vertical-align: middle;\n",
              "    }\n",
              "\n",
              "    .dataframe tbody tr th {\n",
              "        vertical-align: top;\n",
              "    }\n",
              "\n",
              "    .dataframe thead th {\n",
              "        text-align: right;\n",
              "    }\n",
              "</style>\n",
              "<table border=\"1\" class=\"dataframe\">\n",
              "  <thead>\n",
              "    <tr style=\"text-align: right;\">\n",
              "      <th></th>\n",
              "      <th>id</th>\n",
              "      <th>text</th>\n",
              "      <th>author</th>\n",
              "    </tr>\n",
              "  </thead>\n",
              "  <tbody>\n",
              "    <tr>\n",
              "      <th>0</th>\n",
              "      <td>id26305</td>\n",
              "      <td>This process, however, afforded me no means of...</td>\n",
              "      <td>EAP</td>\n",
              "    </tr>\n",
              "    <tr>\n",
              "      <th>1</th>\n",
              "      <td>id17569</td>\n",
              "      <td>It never once occurred to me that the fumbling...</td>\n",
              "      <td>HPL</td>\n",
              "    </tr>\n",
              "    <tr>\n",
              "      <th>2</th>\n",
              "      <td>id11008</td>\n",
              "      <td>In his left hand was a gold snuff box, from wh...</td>\n",
              "      <td>EAP</td>\n",
              "    </tr>\n",
              "    <tr>\n",
              "      <th>3</th>\n",
              "      <td>id27763</td>\n",
              "      <td>How lovely is spring As we looked from Windsor...</td>\n",
              "      <td>MWS</td>\n",
              "    </tr>\n",
              "    <tr>\n",
              "      <th>4</th>\n",
              "      <td>id12958</td>\n",
              "      <td>Finding nothing else, not even gold, the Super...</td>\n",
              "      <td>HPL</td>\n",
              "    </tr>\n",
              "  </tbody>\n",
              "</table>\n",
              "</div>\n",
              "      <button class=\"colab-df-convert\" onclick=\"convertToInteractive('df-84eed619-bb22-446c-b029-a6b97303043b')\"\n",
              "              title=\"Convert this dataframe to an interactive table.\"\n",
              "              style=\"display:none;\">\n",
              "        \n",
              "  <svg xmlns=\"http://www.w3.org/2000/svg\" height=\"24px\"viewBox=\"0 0 24 24\"\n",
              "       width=\"24px\">\n",
              "    <path d=\"M0 0h24v24H0V0z\" fill=\"none\"/>\n",
              "    <path d=\"M18.56 5.44l.94 2.06.94-2.06 2.06-.94-2.06-.94-.94-2.06-.94 2.06-2.06.94zm-11 1L8.5 8.5l.94-2.06 2.06-.94-2.06-.94L8.5 2.5l-.94 2.06-2.06.94zm10 10l.94 2.06.94-2.06 2.06-.94-2.06-.94-.94-2.06-.94 2.06-2.06.94z\"/><path d=\"M17.41 7.96l-1.37-1.37c-.4-.4-.92-.59-1.43-.59-.52 0-1.04.2-1.43.59L10.3 9.45l-7.72 7.72c-.78.78-.78 2.05 0 2.83L4 21.41c.39.39.9.59 1.41.59.51 0 1.02-.2 1.41-.59l7.78-7.78 2.81-2.81c.8-.78.8-2.07 0-2.86zM5.41 20L4 18.59l7.72-7.72 1.47 1.35L5.41 20z\"/>\n",
              "  </svg>\n",
              "      </button>\n",
              "      \n",
              "  <style>\n",
              "    .colab-df-container {\n",
              "      display:flex;\n",
              "      flex-wrap:wrap;\n",
              "      gap: 12px;\n",
              "    }\n",
              "\n",
              "    .colab-df-convert {\n",
              "      background-color: #E8F0FE;\n",
              "      border: none;\n",
              "      border-radius: 50%;\n",
              "      cursor: pointer;\n",
              "      display: none;\n",
              "      fill: #1967D2;\n",
              "      height: 32px;\n",
              "      padding: 0 0 0 0;\n",
              "      width: 32px;\n",
              "    }\n",
              "\n",
              "    .colab-df-convert:hover {\n",
              "      background-color: #E2EBFA;\n",
              "      box-shadow: 0px 1px 2px rgba(60, 64, 67, 0.3), 0px 1px 3px 1px rgba(60, 64, 67, 0.15);\n",
              "      fill: #174EA6;\n",
              "    }\n",
              "\n",
              "    [theme=dark] .colab-df-convert {\n",
              "      background-color: #3B4455;\n",
              "      fill: #D2E3FC;\n",
              "    }\n",
              "\n",
              "    [theme=dark] .colab-df-convert:hover {\n",
              "      background-color: #434B5C;\n",
              "      box-shadow: 0px 1px 3px 1px rgba(0, 0, 0, 0.15);\n",
              "      filter: drop-shadow(0px 1px 2px rgba(0, 0, 0, 0.3));\n",
              "      fill: #FFFFFF;\n",
              "    }\n",
              "  </style>\n",
              "\n",
              "      <script>\n",
              "        const buttonEl =\n",
              "          document.querySelector('#df-84eed619-bb22-446c-b029-a6b97303043b button.colab-df-convert');\n",
              "        buttonEl.style.display =\n",
              "          google.colab.kernel.accessAllowed ? 'block' : 'none';\n",
              "\n",
              "        async function convertToInteractive(key) {\n",
              "          const element = document.querySelector('#df-84eed619-bb22-446c-b029-a6b97303043b');\n",
              "          const dataTable =\n",
              "            await google.colab.kernel.invokeFunction('convertToInteractive',\n",
              "                                                     [key], {});\n",
              "          if (!dataTable) return;\n",
              "\n",
              "          const docLinkHtml = 'Like what you see? Visit the ' +\n",
              "            '<a target=\"_blank\" href=https://colab.research.google.com/notebooks/data_table.ipynb>data table notebook</a>'\n",
              "            + ' to learn more about interactive tables.';\n",
              "          element.innerHTML = '';\n",
              "          dataTable['output_type'] = 'display_data';\n",
              "          await google.colab.output.renderOutput(dataTable, element);\n",
              "          const docLink = document.createElement('div');\n",
              "          docLink.innerHTML = docLinkHtml;\n",
              "          element.appendChild(docLink);\n",
              "        }\n",
              "      </script>\n",
              "    </div>\n",
              "  </div>\n",
              "  "
            ]
          },
          "metadata": {},
          "execution_count": 5
        }
      ],
      "source": [
        "spooky_df.head()"
      ],
      "id": "ea33ffc1-4e88-490b-ba44-2a1a262afcc1"
    },
    {
      "cell_type": "markdown",
      "metadata": {
        "id": "fa93c8a4-66b0-4650-9e68-408360f5bfad"
      },
      "source": [
        "## Preprocessing\n",
        "\n",
        "En NLP, la première étape est souvent celle du *preprocessing*, qui inclut notamment les étapes de tokenization et de nettoyage du texte. Comme celles-ci ont été vues en détail dans le précédent chapitre, on se contentera ici d’un *preprocessing* minimaliste : suppression de la ponctuation et des *stop words* (pour la visualisation et les méthodes de vectorisation basées sur des comptages).\n",
        "\n",
        "Jusqu’à présent, nous avons utilisé principalement `nltk` pour le\n",
        "*preprocessing* de données textuelles. Cette fois, nous proposons\n",
        "d’utiliser la librairie `spaCy` qui permet de mieux automatiser sous forme de\n",
        "*pipelines* de *preprocessing*.\n",
        "\n",
        "Pour initialiser le processus de nettoyage,\n",
        "on va utiliser le corpus `en_core_web_sm` (voir plus\n",
        "haut pour l’installation de ce corpus):"
      ],
      "id": "fa93c8a4-66b0-4650-9e68-408360f5bfad"
    },
    {
      "cell_type": "code",
      "execution_count": 10,
      "metadata": {
        "id": "0ae8f5d2-1ec8-4c4b-a42b-5f036eb2b688"
      },
      "outputs": [],
      "source": [
        "import spacy\n",
        "nlp = spacy.load('en_core_web_sm')"
      ],
      "id": "0ae8f5d2-1ec8-4c4b-a42b-5f036eb2b688"
    },
    {
      "cell_type": "markdown",
      "metadata": {
        "id": "2db9d199-be7c-48c8-8e5a-c3f4329aa4a0"
      },
      "source": [
        "On va utiliser un `pipe` `spacy` qui permet d’automatiser, et de paralléliser,\n",
        "un certain nombre d’opérations. Les *pipes* sont l’équivalent, en NLP, de\n",
        "nos *pipelines* `scikit` ou des *pipes* `pandas`. Il s’agit donc d’un outil\n",
        "très approprié pour industrialiser un certain nombre d’opérations de\n",
        "*preprocessing* :"
      ],
      "id": "2db9d199-be7c-48c8-8e5a-c3f4329aa4a0"
    },
    {
      "cell_type": "code",
      "execution_count": 12,
      "metadata": {
        "id": "66cc3fe4-c407-4c76-a7d9-1fca57700f22"
      },
      "outputs": [],
      "source": [
        "def clean_docs(texts, remove_stopwords=False, n_process = 4):\n",
        "    \n",
        "    docs = nlp.pipe(texts, \n",
        "                    n_process=n_process,\n",
        "                    disable=['parser', 'ner',\n",
        "                             'lemmatizer', 'textcat'])\n",
        "    stopwords = nlp.Defaults.stop_words\n",
        "\n",
        "    docs_cleaned = []\n",
        "    for doc in docs:\n",
        "        tokens = [tok.text.lower().strip() for tok in doc if not tok.is_punct]\n",
        "        if remove_stopwords:\n",
        "            tokens = [tok for tok in tokens if tok not in stopwords]\n",
        "        doc_clean = ' '.join(tokens)\n",
        "        docs_cleaned.append(doc_clean)\n",
        "        \n",
        "    return docs_cleaned"
      ],
      "id": "66cc3fe4-c407-4c76-a7d9-1fca57700f22"
    },
    {
      "cell_type": "markdown",
      "metadata": {
        "id": "35dd7cdb-3ee7-4453-9a33-800aaa114798"
      },
      "source": [
        "On applique la fonction `clean_docs` à notre colonne `pandas`.\n",
        "Les `pandas.Series` étant itérables, elles se comportent comme des listes et\n",
        "fonctionnent ainsi très bien avec notre `pipe` `spacy`"
      ],
      "id": "35dd7cdb-3ee7-4453-9a33-800aaa114798"
    },
    {
      "cell_type": "code",
      "execution_count": 13,
      "metadata": {
        "id": "ee282be5-98ab-4e8b-8fd6-b0d23efb1c71"
      },
      "outputs": [],
      "source": [
        "spooky_df['text_clean'] = clean_docs(spooky_df['text'])"
      ],
      "id": "ee282be5-98ab-4e8b-8fd6-b0d23efb1c71"
    },
    {
      "cell_type": "code",
      "execution_count": 14,
      "metadata": {
        "id": "7360077b-0610-4f41-bce9-c46cb7717335",
        "outputId": "517bb023-fc45-4cc1-9d6a-d7c253282ff1",
        "colab": {
          "base_uri": "https://localhost:8080/",
          "height": 206
        }
      },
      "outputs": [
        {
          "output_type": "execute_result",
          "data": {
            "text/plain": [
              "        id                                               text author  \\\n",
              "0  id26305  This process, however, afforded me no means of...    EAP   \n",
              "1  id17569  It never once occurred to me that the fumbling...    HPL   \n",
              "2  id11008  In his left hand was a gold snuff box, from wh...    EAP   \n",
              "3  id27763  How lovely is spring As we looked from Windsor...    MWS   \n",
              "4  id12958  Finding nothing else, not even gold, the Super...    HPL   \n",
              "\n",
              "                                          text_clean  \n",
              "0  this process however afforded me no means of a...  \n",
              "1  it never once occurred to me that the fumbling...  \n",
              "2  in his left hand was a gold snuff box from whi...  \n",
              "3  how lovely is spring as we looked from windsor...  \n",
              "4  finding nothing else not even gold the superin...  "
            ],
            "text/html": [
              "\n",
              "  <div id=\"df-0fd06e60-869c-40e7-ba43-a8cef0dd278e\">\n",
              "    <div class=\"colab-df-container\">\n",
              "      <div>\n",
              "<style scoped>\n",
              "    .dataframe tbody tr th:only-of-type {\n",
              "        vertical-align: middle;\n",
              "    }\n",
              "\n",
              "    .dataframe tbody tr th {\n",
              "        vertical-align: top;\n",
              "    }\n",
              "\n",
              "    .dataframe thead th {\n",
              "        text-align: right;\n",
              "    }\n",
              "</style>\n",
              "<table border=\"1\" class=\"dataframe\">\n",
              "  <thead>\n",
              "    <tr style=\"text-align: right;\">\n",
              "      <th></th>\n",
              "      <th>id</th>\n",
              "      <th>text</th>\n",
              "      <th>author</th>\n",
              "      <th>text_clean</th>\n",
              "    </tr>\n",
              "  </thead>\n",
              "  <tbody>\n",
              "    <tr>\n",
              "      <th>0</th>\n",
              "      <td>id26305</td>\n",
              "      <td>This process, however, afforded me no means of...</td>\n",
              "      <td>EAP</td>\n",
              "      <td>this process however afforded me no means of a...</td>\n",
              "    </tr>\n",
              "    <tr>\n",
              "      <th>1</th>\n",
              "      <td>id17569</td>\n",
              "      <td>It never once occurred to me that the fumbling...</td>\n",
              "      <td>HPL</td>\n",
              "      <td>it never once occurred to me that the fumbling...</td>\n",
              "    </tr>\n",
              "    <tr>\n",
              "      <th>2</th>\n",
              "      <td>id11008</td>\n",
              "      <td>In his left hand was a gold snuff box, from wh...</td>\n",
              "      <td>EAP</td>\n",
              "      <td>in his left hand was a gold snuff box from whi...</td>\n",
              "    </tr>\n",
              "    <tr>\n",
              "      <th>3</th>\n",
              "      <td>id27763</td>\n",
              "      <td>How lovely is spring As we looked from Windsor...</td>\n",
              "      <td>MWS</td>\n",
              "      <td>how lovely is spring as we looked from windsor...</td>\n",
              "    </tr>\n",
              "    <tr>\n",
              "      <th>4</th>\n",
              "      <td>id12958</td>\n",
              "      <td>Finding nothing else, not even gold, the Super...</td>\n",
              "      <td>HPL</td>\n",
              "      <td>finding nothing else not even gold the superin...</td>\n",
              "    </tr>\n",
              "  </tbody>\n",
              "</table>\n",
              "</div>\n",
              "      <button class=\"colab-df-convert\" onclick=\"convertToInteractive('df-0fd06e60-869c-40e7-ba43-a8cef0dd278e')\"\n",
              "              title=\"Convert this dataframe to an interactive table.\"\n",
              "              style=\"display:none;\">\n",
              "        \n",
              "  <svg xmlns=\"http://www.w3.org/2000/svg\" height=\"24px\"viewBox=\"0 0 24 24\"\n",
              "       width=\"24px\">\n",
              "    <path d=\"M0 0h24v24H0V0z\" fill=\"none\"/>\n",
              "    <path d=\"M18.56 5.44l.94 2.06.94-2.06 2.06-.94-2.06-.94-.94-2.06-.94 2.06-2.06.94zm-11 1L8.5 8.5l.94-2.06 2.06-.94-2.06-.94L8.5 2.5l-.94 2.06-2.06.94zm10 10l.94 2.06.94-2.06 2.06-.94-2.06-.94-.94-2.06-.94 2.06-2.06.94z\"/><path d=\"M17.41 7.96l-1.37-1.37c-.4-.4-.92-.59-1.43-.59-.52 0-1.04.2-1.43.59L10.3 9.45l-7.72 7.72c-.78.78-.78 2.05 0 2.83L4 21.41c.39.39.9.59 1.41.59.51 0 1.02-.2 1.41-.59l7.78-7.78 2.81-2.81c.8-.78.8-2.07 0-2.86zM5.41 20L4 18.59l7.72-7.72 1.47 1.35L5.41 20z\"/>\n",
              "  </svg>\n",
              "      </button>\n",
              "      \n",
              "  <style>\n",
              "    .colab-df-container {\n",
              "      display:flex;\n",
              "      flex-wrap:wrap;\n",
              "      gap: 12px;\n",
              "    }\n",
              "\n",
              "    .colab-df-convert {\n",
              "      background-color: #E8F0FE;\n",
              "      border: none;\n",
              "      border-radius: 50%;\n",
              "      cursor: pointer;\n",
              "      display: none;\n",
              "      fill: #1967D2;\n",
              "      height: 32px;\n",
              "      padding: 0 0 0 0;\n",
              "      width: 32px;\n",
              "    }\n",
              "\n",
              "    .colab-df-convert:hover {\n",
              "      background-color: #E2EBFA;\n",
              "      box-shadow: 0px 1px 2px rgba(60, 64, 67, 0.3), 0px 1px 3px 1px rgba(60, 64, 67, 0.15);\n",
              "      fill: #174EA6;\n",
              "    }\n",
              "\n",
              "    [theme=dark] .colab-df-convert {\n",
              "      background-color: #3B4455;\n",
              "      fill: #D2E3FC;\n",
              "    }\n",
              "\n",
              "    [theme=dark] .colab-df-convert:hover {\n",
              "      background-color: #434B5C;\n",
              "      box-shadow: 0px 1px 3px 1px rgba(0, 0, 0, 0.15);\n",
              "      filter: drop-shadow(0px 1px 2px rgba(0, 0, 0, 0.3));\n",
              "      fill: #FFFFFF;\n",
              "    }\n",
              "  </style>\n",
              "\n",
              "      <script>\n",
              "        const buttonEl =\n",
              "          document.querySelector('#df-0fd06e60-869c-40e7-ba43-a8cef0dd278e button.colab-df-convert');\n",
              "        buttonEl.style.display =\n",
              "          google.colab.kernel.accessAllowed ? 'block' : 'none';\n",
              "\n",
              "        async function convertToInteractive(key) {\n",
              "          const element = document.querySelector('#df-0fd06e60-869c-40e7-ba43-a8cef0dd278e');\n",
              "          const dataTable =\n",
              "            await google.colab.kernel.invokeFunction('convertToInteractive',\n",
              "                                                     [key], {});\n",
              "          if (!dataTable) return;\n",
              "\n",
              "          const docLinkHtml = 'Like what you see? Visit the ' +\n",
              "            '<a target=\"_blank\" href=https://colab.research.google.com/notebooks/data_table.ipynb>data table notebook</a>'\n",
              "            + ' to learn more about interactive tables.';\n",
              "          element.innerHTML = '';\n",
              "          dataTable['output_type'] = 'display_data';\n",
              "          await google.colab.output.renderOutput(dataTable, element);\n",
              "          const docLink = document.createElement('div');\n",
              "          docLink.innerHTML = docLinkHtml;\n",
              "          element.appendChild(docLink);\n",
              "        }\n",
              "      </script>\n",
              "    </div>\n",
              "  </div>\n",
              "  "
            ]
          },
          "metadata": {},
          "execution_count": 14
        }
      ],
      "source": [
        "spooky_df.head()"
      ],
      "id": "7360077b-0610-4f41-bce9-c46cb7717335"
    },
    {
      "cell_type": "markdown",
      "metadata": {
        "id": "9a29ff76-c969-4c7b-a2fe-93a753a2be94"
      },
      "source": [
        "## Encodage de la variable à prédire\n",
        "\n",
        "On réalise un simple encodage de la variable à prédire :\n",
        "il y a trois catégories (auteurs), représentées par des entiers 0, 1 et 2.\n",
        "\n",
        "Pour cela, on utilise le `LabelEncoder` de `scikit` déjà présenté\n",
        "dans la [partie modélisation](#preprocessing). On va utiliser la méthode\n",
        "`fit_transform` qui permet, en un tour de main, d’appliquer à la fois\n",
        "l’entraînement (`fit`), à savoir la création d’une correspondance entre valeurs\n",
        "numériques et *labels*, et l’appliquer (`transform`) à la même colonne."
      ],
      "id": "9a29ff76-c969-4c7b-a2fe-93a753a2be94"
    },
    {
      "cell_type": "code",
      "execution_count": 15,
      "metadata": {
        "id": "c4dea9e7-1cee-4557-b5cd-bbb34601df94"
      },
      "outputs": [],
      "source": [
        "le = LabelEncoder()\n",
        "spooky_df['author_encoded'] = le.fit_transform(spooky_df['author'])"
      ],
      "id": "c4dea9e7-1cee-4557-b5cd-bbb34601df94"
    },
    {
      "cell_type": "markdown",
      "metadata": {
        "id": "bc9384a5-d4ff-4a62-a3ac-8bcdd1720aa0"
      },
      "source": [
        "On peut vérifier les classes de notre `LabelEncoder` :"
      ],
      "id": "bc9384a5-d4ff-4a62-a3ac-8bcdd1720aa0"
    },
    {
      "cell_type": "code",
      "execution_count": 16,
      "metadata": {
        "id": "7a8fb69d-f2bc-4c67-8e0f-d6c0087ac416",
        "outputId": "9f1ed2c2-95bb-434a-abb9-3b9d1c040e20",
        "colab": {
          "base_uri": "https://localhost:8080/"
        }
      },
      "outputs": [
        {
          "output_type": "execute_result",
          "data": {
            "text/plain": [
              "array(['EAP', 'HPL', 'MWS'], dtype=object)"
            ]
          },
          "metadata": {},
          "execution_count": 16
        }
      ],
      "source": [
        "le.classes_"
      ],
      "id": "7a8fb69d-f2bc-4c67-8e0f-d6c0087ac416"
    },
    {
      "cell_type": "markdown",
      "metadata": {
        "id": "f96b9f6f-5a47-426b-9fcd-e95554136557"
      },
      "source": [
        "## Construction des bases d’entraînement et de test\n",
        "\n",
        "On met de côté un échantillon de test (20 %) avant toute analyse (même descriptive).\n",
        "Cela permettra d’évaluer nos différents modèles toute à la fin de manière très rigoureuse,\n",
        "puisque ces données n’auront jamais utilisées pendant l’entraînement.\n",
        "\n",
        "Notre échantillon initial n’est pas équilibré (*balanced*) : on retrouve plus d’oeuvres de\n",
        "certains auteurs que d’autres. Afin d’obtenir un modèle qui soit évalué au mieux, nous allons donc stratifier notre échantillon de manière à obtenir une répartition similaire d’auteurs dans nos\n",
        "ensembles d’entraînement et de test."
      ],
      "id": "f96b9f6f-5a47-426b-9fcd-e95554136557"
    },
    {
      "cell_type": "code",
      "execution_count": 17,
      "metadata": {
        "id": "beb36fed-5eaf-4d0e-865c-5efe4caf5f71"
      },
      "outputs": [],
      "source": [
        "X_train, X_test, y_train, y_test = train_test_split(spooky_df['text_clean'].values, \n",
        "                                                    spooky_df['author_encoded'].values, \n",
        "                                                    test_size=0.2, \n",
        "                                                    random_state=33,\n",
        "                                                    stratify = spooky_df['author_encoded'].values)"
      ],
      "id": "beb36fed-5eaf-4d0e-865c-5efe4caf5f71"
    },
    {
      "cell_type": "markdown",
      "metadata": {
        "id": "87de394a-254a-4226-98fc-227057e44def"
      },
      "source": [
        "Par exemple, les textes d’EAP représentent 40 % des échantillons d’entraînement et de test :"
      ],
      "id": "87de394a-254a-4226-98fc-227057e44def"
    },
    {
      "cell_type": "code",
      "execution_count": 18,
      "metadata": {
        "id": "9a655391-bf24-4044-b782-83da6befe677",
        "outputId": "98b179b4-a0ec-4d60-ffdd-27597613bf52",
        "colab": {
          "base_uri": "https://localhost:8080/"
        }
      },
      "outputs": [
        {
          "output_type": "stream",
          "name": "stdout",
          "text": [
            "40.349869118304284\n",
            "40.34729315628192\n"
          ]
        }
      ],
      "source": [
        "print(100*y_train.tolist().count(0)/(len(y_train)))\n",
        "print(100*y_test.tolist().count(0)/(len(y_test)))"
      ],
      "id": "9a655391-bf24-4044-b782-83da6befe677"
    },
    {
      "cell_type": "markdown",
      "metadata": {
        "id": "f29a99fe-156d-41c5-a0a6-fd0dba9f3952"
      },
      "source": [
        "Aperçu du premier élément de `X_train` :"
      ],
      "id": "f29a99fe-156d-41c5-a0a6-fd0dba9f3952"
    },
    {
      "cell_type": "code",
      "execution_count": 19,
      "metadata": {
        "id": "1269552d-0910-4377-b2b5-42b6c1995133",
        "outputId": "2382b3c1-1392-423e-e502-893425c4fe17",
        "colab": {
          "base_uri": "https://localhost:8080/",
          "height": 35
        }
      },
      "outputs": [
        {
          "output_type": "execute_result",
          "data": {
            "text/plain": [
              "'for the first time during many hours or perhaps days i thought'"
            ],
            "application/vnd.google.colaboratory.intrinsic+json": {
              "type": "string"
            }
          },
          "metadata": {},
          "execution_count": 19
        }
      ],
      "source": [
        "X_train[0]"
      ],
      "id": "1269552d-0910-4377-b2b5-42b6c1995133"
    },
    {
      "cell_type": "markdown",
      "metadata": {
        "id": "f487492a-bec0-4383-9ab5-98b5ad10cc74"
      },
      "source": [
        "On peut aussi vérifier qu’on est capable de retrouver\n",
        "la correspondance entre nos auteurs initiaux avec\n",
        "la méthode `inverse_transform`"
      ],
      "id": "f487492a-bec0-4383-9ab5-98b5ad10cc74"
    },
    {
      "cell_type": "code",
      "execution_count": 20,
      "metadata": {
        "id": "5b4739da-732d-4ca5-a6f1-001c811ebb7a",
        "outputId": "bef673e8-2d25-4975-b6ad-e296c6985d03",
        "colab": {
          "base_uri": "https://localhost:8080/"
        }
      },
      "outputs": [
        {
          "output_type": "stream",
          "name": "stdout",
          "text": [
            "0 EAP\n"
          ]
        }
      ],
      "source": [
        "print(y_train[0], le.inverse_transform([y_train[0]])[0])"
      ],
      "id": "5b4739da-732d-4ca5-a6f1-001c811ebb7a"
    },
    {
      "cell_type": "markdown",
      "metadata": {
        "id": "d073180b-be6b-47d7-9180-838b557f9745"
      },
      "source": [
        "# Statistiques exploratoires\n",
        "\n",
        "## Répartition des labels\n",
        "\n",
        "Refaisons un graphique que nous avons déjà produit précédemment pour voir\n",
        "la répartition de notre corpus entre auteurs:"
      ],
      "id": "d073180b-be6b-47d7-9180-838b557f9745"
    },
    {
      "cell_type": "code",
      "execution_count": 21,
      "metadata": {
        "id": "d7bc92be-de6f-437f-854c-568e5adce2f8",
        "outputId": "1831d3e9-d4fc-40a2-9bdd-c019f271a9d5",
        "colab": {
          "base_uri": "https://localhost:8080/",
          "height": 297
        }
      },
      "outputs": [
        {
          "output_type": "execute_result",
          "data": {
            "text/plain": [
              "<matplotlib.axes._subplots.AxesSubplot at 0x7fc66453ea10>"
            ]
          },
          "metadata": {},
          "execution_count": 21
        },
        {
          "output_type": "display_data",
          "data": {
            "text/plain": [
              "<Figure size 432x288 with 1 Axes>"
            ],
            "image/png": "[encoded data removed]"
          },
          "metadata": {
            "needs_background": "light"
          }
        }
      ],
      "source": [
        "fig = pd.Series(le.inverse_transform(y_train)).value_counts().plot(kind='bar')\n",
        "fig"
      ],
      "id": "d7bc92be-de6f-437f-854c-568e5adce2f8"
    },
    {
      "cell_type": "markdown",
      "metadata": {
        "id": "d855dffb-a3af-435e-a2e3-fe16b0b117d5"
      },
      "source": [
        "On observe une petite asymétrie : les passages des livres d’Edgar Allen Poe sont plus nombreux que ceux des autres auteurs dans notre corpus d’entraînement, ce qui peut être problématique dans le cadre d’une tâche de classification.\n",
        "L’écart n’est pas dramatique, mais on essaiera d’en tenir compte dans l’analyse en choisissant une métrique d’évaluation pertinente.\n",
        "\n",
        "## Mots les plus fréquemment utilisés par chaque auteur\n",
        "\n",
        "On va supprimer les *stopwords* pour réduire le bruit dans notre jeu\n",
        "de données."
      ],
      "id": "d855dffb-a3af-435e-a2e3-fe16b0b117d5"
    },
    {
      "cell_type": "code",
      "execution_count": 22,
      "metadata": {
        "id": "754eeff6-0de3-4eaa-a797-5a800de42ce6"
      },
      "outputs": [],
      "source": [
        "# Suppression des stop words\n",
        "X_train_no_sw = clean_docs(X_train, remove_stopwords=True)\n",
        "X_train_no_sw = np.array(X_train_no_sw)"
      ],
      "id": "754eeff6-0de3-4eaa-a797-5a800de42ce6"
    },
    {
      "cell_type": "markdown",
      "metadata": {
        "id": "fcbffe30-80f6-4139-b0d2-f73cec6ba624"
      },
      "source": [
        "Pour visualiser rapidement nos corpus, on peut utiliser la technique des\n",
        "nuages de mots déjà vue à plusieurs reprises.\n",
        "\n",
        "Vous pouvez essayer de faire vous-même les nuages ci-dessous\n",
        "ou cliquer sur la ligne ci-dessous pour afficher le code ayant\n",
        "généré les figures :"
      ],
      "id": "fcbffe30-80f6-4139-b0d2-f73cec6ba624"
    },
    {
      "cell_type": "markdown",
      "metadata": {
        "id": "7313ddd8-e2d6-4f59-ba90-bb5eb5fc73ad"
      },
      "source": [
        "<details>\n",
        "<summary>Cliquer pour afficher le code</summary>\n",
        "\n",
        "``` python\n",
        "def plot_top_words(initials, ax, n_words=20):\n",
        "    # Calcul des mots les plus fréquemment utilisés par l'auteur\n",
        "    texts = X_train_no_sw[le.inverse_transform(y_train) == initials]\n",
        "    all_tokens = ' '.join(texts).split()\n",
        "    counts = Counter(all_tokens)\n",
        "    top_words = [word[0] for word in counts.most_common(n_words)]\n",
        "    top_words_counts = [word[1] for word in counts.most_common(n_words)]\n",
        "    \n",
        "    # Représentation sous forme de barplot\n",
        "    ax = sns.barplot(ax = ax, x=top_words, y=top_words_counts)\n",
        "    ax.set_title(f'Most Common Words used by {initials_to_author[initials]}')\n",
        "```\n",
        "\n",
        "``` python\n",
        "initials_to_author = {\n",
        "    'EAP': 'Edgar Allen Poe',\n",
        "    'HPL': 'H.P. Lovecraft',\n",
        "    'MWS': 'Mary Wollstonecraft Shelley'\n",
        "}\n",
        "\n",
        "fig, axs = plt.subplots(3, 1, figsize = (12,12))\n",
        "\n",
        "plot_top_words('EAP', ax = axs[0])\n",
        "plot_top_words('HPL', ax = axs[1])\n",
        "plot_top_words('MWS', ax = axs[2])\n",
        "```\n",
        "\n",
        "</details>"
      ],
      "id": "7313ddd8-e2d6-4f59-ba90-bb5eb5fc73ad"
    },
    {
      "cell_type": "code",
      "source": [
        "def plot_top_words(initials, ax, n_words=20):\n",
        "    # Calcul des mots les plus fréquemment utilisés par l'auteur\n",
        "    texts = X_train_no_sw[le.inverse_transform(y_train) == initials]\n",
        "    all_tokens = ' '.join(texts).split()\n",
        "    counts = Counter(all_tokens)\n",
        "    top_words = [word[0] for word in counts.most_common(n_words)]\n",
        "    top_words_counts = [word[1] for word in counts.most_common(n_words)]\n",
        "\n",
        "    # Représentation sous forme de barplot\n",
        "    ax = sns.barplot(ax = ax, x=top_words, y=top_words_counts)\n",
        "    ax.set_title(f'Most Common Words used by {initials_to_author[initials]}')\n",
        "    \n",
        "initials_to_author = {\n",
        "    'EAP': 'Edgar Allen Poe',\n",
        "    'HPL': 'H.P. Lovecraft',\n",
        "    'MWS': 'Mary Wollstonecraft Shelley'\n",
        "}\n",
        "\n",
        "fig, axs = plt.subplots(3, 1, figsize = (12,12))\n",
        "\n",
        "plot_top_words('EAP', ax = axs[0])\n",
        "plot_top_words('HPL', ax = axs[1])\n",
        "plot_top_words('MWS', ax = axs[2])"
      ],
      "metadata": {
        "id": "9gukmdPmeJJl",
        "outputId": "36d0825d-1f74-4789-b784-cc2db6af8e8c",
        "colab": {
          "base_uri": "https://localhost:8080/",
          "height": 716
        }
      },
      "id": "9gukmdPmeJJl",
      "execution_count": 23,
      "outputs": [
        {
          "output_type": "display_data",
          "data": {
            "text/plain": [
              "<Figure size 864x864 with 3 Axes>"
            ],
            "image/png": "[encoded data removed]"
          },
          "metadata": {
            "needs_background": "light"
          }
        }
      ]
    },
    {
      "cell_type": "markdown",
      "metadata": {
        "id": "f67a2e4d-5625-400e-8251-764d98abf310"
      },
      "source": [
        "Beaucoup de mots se retrouvent très utilisés par les trois auteurs.\n",
        "Il y a cependant des différences notables : le mot *“life”*\n",
        "est le plus employé par MWS, alors qu’il n’apparaît pas dans les deux autres tops.\n",
        "De même, le mot *“old”* est le plus utilisé par HPL\n",
        "là où les deux autres ne l’utilisent pas de manière surreprésentée.\n",
        "\n",
        "Il semble donc qu’il y ait des particularités propres à chacun des auteurs\n",
        "en termes de vocabulaire,\n",
        "ce qui laisse penser qu’il est envisageable de prédire les auteurs à partir\n",
        "de leurs textes dans une certaine mesure.\n",
        "\n",
        "# Prédiction sur le set d’entraînement\n",
        "\n",
        "Nous allons à présent vérifier cette conjecture en comparant\n",
        "plusieurs modèles de vectorisation,\n",
        "*i.e.* de transformation du texte en objets numériques\n",
        "pour que l’information contenue soit exploitable dans un modèle de classification.\n",
        "\n",
        "## Démarche\n",
        "\n",
        "Comme nous nous intéressons plus à l’effet de la vectorisation qu’à la tâche de classification en elle-même,\n",
        "nous allons utiliser un algorithme de classification simple (un SVM linéaire), avec des paramètres non fine-tunés (c’est-à-dire des paramètres pas nécessairement choisis pour être les meilleurs de tous)."
      ],
      "id": "f67a2e4d-5625-400e-8251-764d98abf310"
    },
    {
      "cell_type": "code",
      "execution_count": 25,
      "metadata": {
        "id": "82ba68a5-2fad-4261-961e-12f3a15a58ea"
      },
      "outputs": [],
      "source": [
        "clf = LinearSVC(max_iter=10000, C=0.1)"
      ],
      "id": "82ba68a5-2fad-4261-961e-12f3a15a58ea"
    },
    {
      "cell_type": "markdown",
      "metadata": {
        "id": "cb94a162-e909-4b99-a8a1-e127b43d1f6d"
      },
      "source": [
        "Ce modèle est connu pour être très performant sur les tâches de classification de texte, et nous fournira donc un bon modèle de référence (*baseline*). Cela nous permettra également de comparer de manière objective l’impact des méthodes de vectorisation sur la performance finale."
      ],
      "id": "cb94a162-e909-4b99-a8a1-e127b43d1f6d"
    },
    {
      "cell_type": "raw",
      "metadata": {
        "raw_mimetype": "text/html",
        "id": "3bea2905-680e-4964-ab9b-18799b6876d0"
      },
      "source": [
        "<!-- KA : dit plus bas. -->"
      ],
      "id": "3bea2905-680e-4964-ab9b-18799b6876d0"
    },
    {
      "cell_type": "raw",
      "metadata": {
        "raw_mimetype": "text/html",
        "id": "f7cac1e0-67d0-435f-8a8b-0609f0b6e122"
      },
      "source": [
        "<!-- On va utiliser au maximum les objets de type pipeline de `sklearn`, -->"
      ],
      "id": "f7cac1e0-67d0-435f-8a8b-0609f0b6e122"
    },
    {
      "cell_type": "raw",
      "metadata": {
        "raw_mimetype": "text/html",
        "id": "ea099371-18f7-48d6-b8c3-5da240ff9097"
      },
      "source": [
        "<!-- qui permettent de réaliser des analyses reproductibles -->"
      ],
      "id": "ea099371-18f7-48d6-b8c3-5da240ff9097"
    },
    {
      "cell_type": "raw",
      "metadata": {
        "raw_mimetype": "text/html",
        "id": "522986bb-f18f-4e55-beec-b9c5c432743b"
      },
      "source": [
        "<!-- et de fine-tuner proprement les différents hyperparamètres. -->"
      ],
      "id": "522986bb-f18f-4e55-beec-b9c5c432743b"
    },
    {
      "cell_type": "markdown",
      "metadata": {
        "id": "8adca7f9-870d-45a0-b3fc-ef05648a13e5"
      },
      "source": [
        "Pour les deux premières méthodes de vectorisation\n",
        "(basées sur des fréquences et fréquences relatives des mots),\n",
        "on va simplement normaliser les données d’entrée, ce qui va permettre au SVM de converger plus rapidement, ces modèles étant sensibles aux différences d’échelle dans les données.\n",
        "\n",
        "On va également *fine-tuner* via *grid-search*\n",
        "certains hyperparamètres liés à ces méthodes de vectorisation :\n",
        "\n",
        "-   on teste différents *ranges* de `n-grams` (unigrammes et unigrammes + bigrammes)\n",
        "-   on teste avec et sans *stop-words*\n",
        "\n",
        "Afin d’éviter le surapprentissage,\n",
        "on va évaluer les différents modèles via validation croisée, calculée sur 4 blocs.\n",
        "\n",
        "On récupère à la fin le meilleur modèle selon une métrique spécifiée.\n",
        "On choisit le `score F1`,\n",
        "moyenne harmonique de la précision et du rappel,\n",
        "qui donne un poids équilibré aux deux métriques, tout en pénalisant fortement le cas où l’une des deux est faible.\n",
        "Précisément, on retient le `score F1 *micro-averaged*` :\n",
        "les contributions des différentes classes à prédire sont agrégées,\n",
        "puis on calcule le `score F1` sur ces données agrégées.\n",
        "L’avantage de ce choix est qu’il permet de tenir compte des différences\n",
        "de fréquences des différentes classes.\n",
        "\n",
        "## Pipeline de prédiction\n",
        "\n",
        "On va utiliser un *pipeline* `scikit` ce qui va nous permettre d’avoir\n",
        "un code très concis pour effectuer cet ensemble de tâches cohérentes.\n",
        "De plus, cela va nous assurer de gérer de manière cohérentes nos différentes\n",
        "transformations (cf. [partie sur les pipelines](#pipelines))\n",
        "\n",
        "Pour se faciliter la vie, on définit une fonction `fit_vectorizers` qui\n",
        "intègre dans un *pipeline* générique une méthode d’estimation `scikit`\n",
        "et fait de la validation croisée en cherchant le meilleur modèle\n",
        "(en excluant/incluant les *stopwords* et avec unigrammes/bigrammes)"
      ],
      "id": "8adca7f9-870d-45a0-b3fc-ef05648a13e5"
    },
    {
      "cell_type": "code",
      "execution_count": 26,
      "metadata": {
        "id": "a3c3985a-e532-4f73-96ab-8ec212ef3d26"
      },
      "outputs": [],
      "source": [
        "def fit_vectorizers(vectorizer):\n",
        "    pipeline = Pipeline(\n",
        "    [\n",
        "        (\"vect\", vectorizer()),\n",
        "        (\"scaling\", StandardScaler(with_mean=False)),\n",
        "        (\"clf\", clf),\n",
        "    ]\n",
        "    )\n",
        "\n",
        "    parameters = {\n",
        "        \"vect__ngram_range\": ((1, 1), (1, 2)),  # unigrams or bigrams\n",
        "        \"vect__stop_words\": (\"english\", None)\n",
        "    }\n",
        "\n",
        "    grid_search = GridSearchCV(pipeline, parameters, scoring='f1_micro',\n",
        "                               cv=4, n_jobs=4, verbose=1)\n",
        "    grid_search.fit(X_train, y_train)\n",
        "\n",
        "    best_parameters = grid_search.best_estimator_.get_params()\n",
        "    for param_name in sorted(parameters.keys()):\n",
        "        print(\"\\t%s: %r\" % (param_name, best_parameters[param_name]))\n",
        "\n",
        "    print(f\"CV scores {grid_search.cv_results_['mean_test_score']}\")\n",
        "    print(f\"Mean F1 {np.mean(grid_search.cv_results_['mean_test_score'])}\")\n",
        "    \n",
        "    return grid_search"
      ],
      "id": "a3c3985a-e532-4f73-96ab-8ec212ef3d26"
    },
    {
      "cell_type": "markdown",
      "metadata": {
        "id": "5258e59c-2246-4540-86ba-1a9753e621fd"
      },
      "source": [
        "# Approche *bag-of-words*\n",
        "\n",
        "On commence par une approche **“bag-of-words”**,\n",
        "i.e. qui revient simplement à représenter chaque document par un vecteur\n",
        "qui compte le nombre d’apparitions de chaque mot du vocabulaire dans le document."
      ],
      "id": "5258e59c-2246-4540-86ba-1a9753e621fd"
    },
    {
      "cell_type": "code",
      "execution_count": 27,
      "metadata": {
        "id": "a00a6831-8c6e-409e-9c88-321d5bf317aa",
        "outputId": "51776a72-3997-4976-b9c0-b16572144b0c",
        "colab": {
          "base_uri": "https://localhost:8080/"
        }
      },
      "outputs": [
        {
          "output_type": "stream",
          "name": "stdout",
          "text": [
            "Fitting 4 folds for each of 4 candidates, totalling 16 fits\n",
            "\tvect__ngram_range: (1, 2)\n",
            "\tvect__stop_words: None\n",
            "CV scores [0.65613231 0.68467074 0.59318236 0.78152334]\n",
            "Mean F1 0.6788771863997067\n"
          ]
        }
      ],
      "source": [
        "cv_bow = fit_vectorizers(CountVectorizer)"
      ],
      "id": "a00a6831-8c6e-409e-9c88-321d5bf317aa"
    },
    {
      "cell_type": "markdown",
      "metadata": {
        "id": "14678bfc-d15d-4ae1-b79b-3fda9dd8f0c6"
      },
      "source": [
        "# TF-IDF\n",
        "\n",
        "On s’intéresse ensuite à l’approche **TF-IDF**,\n",
        "qui permet de tenir compte des fréquences *relatives* des mots.\n",
        "\n",
        "Ainsi, pour un mot donné, on va multiplier la fréquence d’apparition du mot dans le document (calculé comme dans la méthode précédente) par un terme qui pénalise une fréquence élevée du mot dans le corpus. L’image ci-dessous, empruntée à Chris Albon, illustre cette mesure:\n",
        "\n",
        "![](https://chrisalbon.com/images/machine_learning_flashcards/TF-IDF_print.png)\n",
        "*Source: [https://chrisalbon](https://chrisalbon.com/code/machine_learning/preprocessing_text/tf-idf/)*\n",
        "\n",
        "La vectorisation `TF-IDF` permet donc de limiter l’influence des *stop-words*\n",
        "et donc de donner plus de poids aux mots les plus salients d’un document.\n",
        "On observe clairement que la performance de classification est bien supérieure,\n",
        "ce qui montre la pertinence de cette technique."
      ],
      "id": "14678bfc-d15d-4ae1-b79b-3fda9dd8f0c6"
    },
    {
      "cell_type": "code",
      "execution_count": 28,
      "metadata": {
        "id": "8345072a-d56a-4586-bb54-317ae9fed26e",
        "outputId": "1e30ae77-0d85-434c-aac4-647e0bcafbd9",
        "colab": {
          "base_uri": "https://localhost:8080/"
        }
      },
      "outputs": [
        {
          "output_type": "stream",
          "name": "stdout",
          "text": [
            "Fitting 4 folds for each of 4 candidates, totalling 16 fits\n",
            "\tvect__ngram_range: (1, 2)\n",
            "\tvect__stop_words: None\n",
            "CV scores [0.68486264 0.72438203 0.75381483 0.80852971]\n",
            "Mean F1 0.7428973032990371\n"
          ]
        }
      ],
      "source": [
        "cv_tfidf = fit_vectorizers(TfidfVectorizer)"
      ],
      "id": "8345072a-d56a-4586-bb54-317ae9fed26e"
    },
    {
      "cell_type": "markdown",
      "metadata": {
        "id": "dc4aa49a-1540-40b3-a5d5-d89a31a6d4e3"
      },
      "source": [
        "# Word2vec avec averaging\n",
        "\n",
        "On va maintenant explorer les techniques de vectorisation basées sur les\n",
        "*embeddings* de mots, et notamment la plus populaire : `Word2Vec`.\n",
        "\n",
        "L’idée derrière est simple, mais a révolutionné le NLP :\n",
        "au lieu de représenter les documents par des\n",
        "vecteurs *sparse* de très grande dimension (la taille du vocabulaire)\n",
        "comme on l’a fait jusqu’à présent,\n",
        "on va les représenter par des vecteurs *dense* (continus)\n",
        "de dimension réduite (en général, autour de 100-300).\n",
        "\n",
        "Chacune de ces dimensions va représenter un facteur latent,\n",
        "c’est à dire une variable inobservée,\n",
        "de la même manière que les composantes principales produites par une ACP.\n",
        "\n",
        "![](attachment:w2v_vecto.png)\n",
        "\n",
        "*Source: https://medium.com/@zafaralibagh6/simple-tutorial-on-word-embedding-and-word2vec-43d477624b6d*\n",
        "\n",
        "**Pourquoi est-ce intéressant ?**\n",
        "Pour de nombreuses raisons, mais pour résumer :\n",
        "cela permet de beaucoup mieux capturer la similarité sémantique entre les documents.\n",
        "\n",
        "Par exemple, un humain sait qu’un document contenant le mot *“Roi”*\n",
        "et un autre document contenant le mot *“Reine”* ont beaucoup de chance\n",
        "d’aborder des sujets semblables.\n",
        "\n",
        "Pourtant, une vectorisation de type comptage ou TF-IDF\n",
        "ne permet pas de saisir cette similarité :\n",
        "le calcul d’une mesure de similarité (norme euclidienne ou similarité cosinus)\n",
        "entre les deux vecteurs ne prendra en compte la similarité des deux concepts, puisque les mots utilisés sont différents.\n",
        "\n",
        "A l’inverse, un modèle `word2vec` bien entraîné va capter\n",
        "qu’il existe un facteur latent de type *“royauté”*,\n",
        "et la similarité entre les vecteurs associés aux deux mots sera forte.\n",
        "\n",
        "La magie va même plus loin : le modèle captera aussi qu’il existe un\n",
        "facteur latent de type *“genre”*,\n",
        "et va permettre de construire un espace sémantique dans lequel les\n",
        "relations arithmétiques entre vecteurs ont du sens ;\n",
        "par exemple :\n",
        "\n",
        "$$\\text{king} - \\text{man} + \\text{woman} ≈ \\text{queen}$$\n",
        "\n",
        "**Comment ces modèles sont-ils entraînés ?**\n",
        "Via une tâche de prédiction résolue par un réseau de neurones simple.\n",
        "\n",
        "L’idée fondamentale est que la signification d’un mot se comprend\n",
        "en regardant les mots qui apparaissent fréquemment dans son voisinage.\n",
        "\n",
        "Pour un mot donné, on va donc essayer de prédire les mots\n",
        "qui apparaissent dans une fenêtre autour du mot cible.\n",
        "\n",
        "En répétant cette tâche de nombreuses fois et sur un corpus suffisamment varié,\n",
        "on obtient finalement des *embeddings* pour chaque mot du vocabulaire,\n",
        "qui présentent les propriétés discutées précédemment."
      ],
      "id": "dc4aa49a-1540-40b3-a5d5-d89a31a6d4e3"
    },
    {
      "cell_type": "code",
      "execution_count": null,
      "metadata": {
        "id": "ffe0f893-4df9-497e-8c19-c27104629266"
      },
      "outputs": [],
      "source": [
        "X_train_tokens = [text.split() for text in X_train]\n",
        "w2v_model = Word2Vec(X_train_tokens, vector_size=200, window=5, \n",
        "                     min_count=1, workers=4)"
      ],
      "id": "ffe0f893-4df9-497e-8c19-c27104629266"
    },
    {
      "cell_type": "code",
      "execution_count": null,
      "metadata": {
        "id": "eb928859-d169-48c5-8f2f-2c4ba8870874"
      },
      "outputs": [],
      "source": [
        "w2v_model.wv.most_similar(\"mother\")"
      ],
      "id": "eb928859-d169-48c5-8f2f-2c4ba8870874"
    },
    {
      "cell_type": "markdown",
      "metadata": {
        "id": "8a15460f-750a-4485-8ff0-05a4d72b15eb"
      },
      "source": [
        "On voit que les mots les plus similaires à *“mother”*\n",
        "sont souvent des mots liés à la famille, mais pas toujours.\n",
        "\n",
        "C’est lié à la taille très restreinte du corpus sur lequel on entraîne le modèle,\n",
        "qui ne permet pas de réaliser des associations toujours pertinentes.\n",
        "\n",
        "L’*embedding* (la représentation vectorielle) de chaque document correspond à la moyenne des *word-embeddings* des mots qui le composent :"
      ],
      "id": "8a15460f-750a-4485-8ff0-05a4d72b15eb"
    },
    {
      "cell_type": "code",
      "execution_count": null,
      "metadata": {
        "id": "8cd2188a-0ca3-458d-adbe-bd933b457557"
      },
      "outputs": [],
      "source": [
        "def get_mean_vector(w2v_vectors, words):\n",
        "    words = [word for word in words if word in w2v_vectors]\n",
        "    if words:\n",
        "        avg_vector = np.mean(w2v_vectors[words], axis=0)\n",
        "    else:\n",
        "        avg_vector = np.zeros_like(w2v_vectors['hi'])\n",
        "    return avg_vector\n",
        "\n",
        "def fit_w2v_avg(w2v_vectors):\n",
        "    X_train_vectors = np.array([get_mean_vector(w2v_vectors, words)\n",
        "                                for words in X_train_tokens])\n",
        "    \n",
        "    scores = cross_val_score(clf, X_train_vectors, y_train, \n",
        "                         cv=4, scoring='f1_micro', n_jobs=4)\n",
        "\n",
        "    print(f\"CV scores {scores}\")\n",
        "    print(f\"Mean F1 {np.mean(scores)}\")\n",
        "    return scores"
      ],
      "id": "8cd2188a-0ca3-458d-adbe-bd933b457557"
    },
    {
      "cell_type": "code",
      "execution_count": null,
      "metadata": {
        "id": "4cafffab-580a-4766-a277-35e3925c39e7"
      },
      "outputs": [],
      "source": [
        "cv_w2vec = fit_w2v_avg(w2v_model.wv)"
      ],
      "id": "4cafffab-580a-4766-a277-35e3925c39e7"
    },
    {
      "cell_type": "markdown",
      "metadata": {
        "id": "e0fe87dc-8463-4847-87ca-db367d06b124"
      },
      "source": [
        "La performance chute fortement ;\n",
        "la faute à la taille très restreinte du corpus, comme annoncé précédemment.\n",
        "\n",
        "# Word2vec pré-entraîné + averaging\n",
        "\n",
        "Quand on travaille avec des corpus de taille restreinte,\n",
        "c’est généralement une mauvaise idée d’entraîner son propre modèle `word2vec`.\n",
        "\n",
        "Heureusement, des modèles pré-entraînés sur de très gros corpus sont disponibles.\n",
        "Ils permettent de réaliser du *transfer learning*,\n",
        "c’est-à-dire de bénéficier de la performance d’un modèle qui a été entraîné sur une autre tâche ou bien sur un autre corpus.\n",
        "\n",
        "L’un des modèles les plus connus pour démarrer est le `glove_model` de\n",
        "`Gensim` (Glove pour *Global Vectors for Word Representation*)`{=html} <a name=\"cite_note-1\"></a>1. [^](#cite_ref-1)`\n",
        "\n",
        "> GloVe is an unsupervised learning algorithm for obtaining vector representations for words. Training is performed on aggregated global word-word co-occurrence statistics from a corpus, and the resulting representations showcase interesting linear substructures of the word vector space.\n",
        ">\n",
        "> *Source*: https://nlp.stanford.edu/projects/glove/"
      ],
      "id": "e0fe87dc-8463-4847-87ca-db367d06b124"
    },
    {
      "cell_type": "raw",
      "metadata": {
        "raw_mimetype": "text/html",
        "id": "50485038-70a2-424b-9698-9ba0c2ead9b4"
      },
      "source": [
        "<a name=\"cite_note-1\"></a>1. [^](#cite_ref-1)"
      ],
      "id": "50485038-70a2-424b-9698-9ba0c2ead9b4"
    },
    {
      "cell_type": "markdown",
      "metadata": {
        "id": "e7cedc16-87c7-4faf-b328-5e89202dc369"
      },
      "source": [
        "Jeffrey Pennington, Richard Socher, and Christopher D. Manning. 2014. *GloVe: Global Vectors for Word Representation*.\n",
        "\n",
        "On peut le charger directement grâce à l’instruction suivante :"
      ],
      "id": "e7cedc16-87c7-4faf-b328-5e89202dc369"
    },
    {
      "cell_type": "code",
      "execution_count": null,
      "metadata": {
        "id": "5149a799-1313-420e-b37e-29275ebcb286"
      },
      "outputs": [],
      "source": [
        "glove_model = gensim.downloader.load('glove-wiki-gigaword-200')"
      ],
      "id": "5149a799-1313-420e-b37e-29275ebcb286"
    },
    {
      "cell_type": "markdown",
      "metadata": {
        "id": "4aca8fba-0e60-4ad9-ba37-b1a468fbed97"
      },
      "source": [
        "Par exemple, la représentation vectorielle de roi est l’objet\n",
        "multidimensionnel suivant :"
      ],
      "id": "4aca8fba-0e60-4ad9-ba37-b1a468fbed97"
    },
    {
      "cell_type": "code",
      "execution_count": null,
      "metadata": {
        "id": "76975b70-5c9d-4190-8472-521de67be14d"
      },
      "outputs": [],
      "source": [
        "glove_model['king']"
      ],
      "id": "76975b70-5c9d-4190-8472-521de67be14d"
    },
    {
      "cell_type": "markdown",
      "metadata": {
        "id": "bc56c19e-ed77-4033-8fae-7b31bd99e068"
      },
      "source": [
        "Comme elle est peu intelligible, on va plutôt rechercher les termes les\n",
        "plus similaires. Par exemple,"
      ],
      "id": "bc56c19e-ed77-4033-8fae-7b31bd99e068"
    },
    {
      "cell_type": "code",
      "execution_count": null,
      "metadata": {
        "id": "27612d49-b594-4858-96ca-1a3441a48d6c"
      },
      "outputs": [],
      "source": [
        "glove_model.most_similar('mother')"
      ],
      "id": "27612d49-b594-4858-96ca-1a3441a48d6c"
    },
    {
      "cell_type": "markdown",
      "metadata": {
        "id": "fb70dd04-c8d3-4ef2-a4c9-51e8778ef414"
      },
      "source": [
        "On peut retrouver notre formule précédente\n",
        "\n",
        "$$\\text{king} - \\text{man} + \\text{woman} ≈ \\text{queen}$$\n",
        "\n",
        "dans ce plongement de mots:"
      ],
      "id": "fb70dd04-c8d3-4ef2-a4c9-51e8778ef414"
    },
    {
      "cell_type": "code",
      "execution_count": null,
      "metadata": {
        "id": "5b8c06ee-5350-4edc-97d7-a5a08783d81a"
      },
      "outputs": [],
      "source": [
        "glove_model.most_similar(positive = ['king', 'woman'], negative = ['man'])"
      ],
      "id": "5b8c06ee-5350-4edc-97d7-a5a08783d81a"
    },
    {
      "cell_type": "markdown",
      "metadata": {
        "id": "f17f6567-4998-4a64-a343-1dfeeb23f44a"
      },
      "source": [
        "Vous pouvez vous référer à [ce tutoriel](https://jalammar.github.io/illustrated-word2vec/)\n",
        "pour en découvrir plus sur `Word2Vec`.\n",
        "\n",
        "Faisons notre apprentissage par transfert :"
      ],
      "id": "f17f6567-4998-4a64-a343-1dfeeb23f44a"
    },
    {
      "cell_type": "code",
      "execution_count": null,
      "metadata": {
        "id": "1c57d7cc-1929-4477-bc6a-da6f0e6caec4"
      },
      "outputs": [],
      "source": [
        "cv_w2vec_transfert = fit_w2v_avg(glove_model)"
      ],
      "id": "1c57d7cc-1929-4477-bc6a-da6f0e6caec4"
    },
    {
      "cell_type": "markdown",
      "metadata": {
        "id": "dc39f903-8929-4d8d-88f1-187a8f1643a0"
      },
      "source": [
        "La performance remonte substantiellement.\n",
        "Cela étant, on ne parvient pas à faire mieux que les approches basiques,\n",
        "on arrive à peine aux performances de la vectorisation par comptage.\n",
        "\n",
        "En effet, pour rappel, les performances sont les suivantes:"
      ],
      "id": "dc39f903-8929-4d8d-88f1-187a8f1643a0"
    },
    {
      "cell_type": "code",
      "execution_count": null,
      "metadata": {
        "id": "f6dd1d48-758b-4cbd-bdb4-b952717ded4e"
      },
      "outputs": [],
      "source": [
        "perfs = pd.DataFrame(\n",
        "    [np.mean(cv_bow.cv_results_['mean_test_score']),\n",
        "     np.mean(cv_tfidf.cv_results_['mean_test_score']),\n",
        "    np.mean(cv_w2vec),\n",
        "    np.mean(cv_w2vec_transfert)],\n",
        "    index = ['Bag-of-Words','TF-IDF', 'Word2Vec non pré-entraîné', 'Word2Vec pré-entraîné'],\n",
        "    columns = [\"Mean F1 score\"]\n",
        ").sort_values(\"Mean F1 score\",ascending = False)\n",
        "perfs"
      ],
      "id": "f6dd1d48-758b-4cbd-bdb4-b952717ded4e"
    },
    {
      "cell_type": "markdown",
      "metadata": {
        "id": "51478968-df98-43bb-81c7-ea48f77e924c"
      },
      "source": [
        "Les performences limitées du modèle *Word2Vec* sont cette fois certainement dues à la manière dont\n",
        "les *word-embeddings* sont exploités : ils sont moyennés pour décrire chaque document.\n",
        "\n",
        "Cela a plusieurs limites :\n",
        "\n",
        "-   on ne tient pas compte de l’ordre et donc du contexte des mots\n",
        "-   lorsque les documents sont longs, la moyennisation peut créer\n",
        "    des représentation bruitées.\n",
        "\n",
        "# Contextual embeddings\n",
        "\n",
        "Les *embeddings* contextuels visent à pallier les limites des *embeddings*\n",
        "traditionnels évoquées précédemment.\n",
        "\n",
        "Cette fois, les mots n’ont plus de représentation vectorielle fixe,\n",
        "celle-ci est calculée dynamiquement en fonction des mots du voisinage, et ainsi de suite.\n",
        "Cela permet de tenir compte de la structure des phrases\n",
        "et de tenir compte du fait que le sens d’un mot est fortement dépendant des mots\n",
        "qui l’entourent.\n",
        "Par exemple, dans les expressions “le président Macron” et “le camembert Président” le mot président n’a pas du tout le même rôle.\n",
        "\n",
        "Ces *embeddings* sont produits par des architectures très complexes,\n",
        "de type Transformer (`BERT`, etc.)."
      ],
      "id": "51478968-df98-43bb-81c7-ea48f77e924c"
    },
    {
      "cell_type": "code",
      "execution_count": null,
      "metadata": {
        "id": "ef715131-86fa-43cc-8275-31e4340e96a7"
      },
      "outputs": [],
      "source": [
        "model = SentenceTransformer('all-mpnet-base-v2')"
      ],
      "id": "ef715131-86fa-43cc-8275-31e4340e96a7"
    },
    {
      "cell_type": "code",
      "execution_count": null,
      "metadata": {
        "id": "7bf7feea-8e74-4065-9211-a492496f48e1"
      },
      "outputs": [],
      "source": [
        "X_train_vectors = model.encode(X_train)"
      ],
      "id": "7bf7feea-8e74-4065-9211-a492496f48e1"
    },
    {
      "cell_type": "code",
      "execution_count": null,
      "metadata": {
        "id": "cd0a135e-3b12-4335-900f-3bae3035ee60"
      },
      "outputs": [],
      "source": [
        "scores = cross_val_score(clf, X_train_vectors, y_train, \n",
        "                         cv=4, scoring='f1_micro', n_jobs=4)\n",
        "\n",
        "print(f\"CV scores {scores}\")\n",
        "print(f\"Mean F1 {np.mean(scores)}\")"
      ],
      "id": "cd0a135e-3b12-4335-900f-3bae3035ee60"
    },
    {
      "cell_type": "code",
      "execution_count": null,
      "metadata": {
        "id": "1c267478-c4d0-45fc-b0e5-89943479f619"
      },
      "outputs": [],
      "source": [
        "perfs = pd.concat(\n",
        "  [perfs,\n",
        "  pd.DataFrame(\n",
        "    [np.mean(scores)],\n",
        "    index = ['Contextual Embedding'],\n",
        "    columns = [\"Mean F1 score\"])]\n",
        ").sort_values(\"Mean F1 score\",ascending = False)\n",
        "perfs"
      ],
      "id": "1c267478-c4d0-45fc-b0e5-89943479f619"
    },
    {
      "cell_type": "markdown",
      "metadata": {
        "id": "a0d827fb-0680-4ab0-b86a-f9a4d5fdc493"
      },
      "source": [
        "Verdict : on fait très légèrement mieux que la vectorisation TF-IDF.\n",
        "On voit donc l’importance de tenir compte du contexte.\n",
        "\n",
        "**Mais pourquoi, avec une méthode très compliquée, ne parvenons-nous pas à battre une méthode toute simple ?**\n",
        "\n",
        "On peut avancer plusieurs raisons :\n",
        "\n",
        "-   le `TF-IDF` est un modèle simple, mais toujours très performant\n",
        "    (on parle de *“tough-to-beat baseline”*).\n",
        "-   la classification d’auteurs est une tâche très particulière et très ardue,\n",
        "    qui ne fait pas justice aux *embeddings*. Comme on l’a dit précédemment, ces derniers se révèlent particulièrement pertinents lorsqu’il est question de similarité sémantique entre des textes (*clustering*, etc.).\n",
        "\n",
        "Dans le cas de notre tâche de classification, il est probable que\n",
        "certains mots (noms de personnage, noms de lieux) soient suffisants pour classifier de manière pertinente,\n",
        "ce que ne permettent pas de capter les *embeddings* qui accordent à tous les mots la même importance.\n",
        "\n",
        "## Aller plus loin\n",
        "\n",
        "-   Nous avons entraîné différents modèles sur l’échantillon d’entraînement par validation croisée, mais nous n’avons toujours pas utilisé l’échantillon test que nous avons mis de côté au début. Réaliser la prédiction sur les données de test, et vérifier si l’on obtient le même classement des méthodes de vectorisation.\n",
        "-   Faire un *vrai* split train/test : faire l’entraînement avec des textes de certains auteurs, et faire la prédiction avec des textes d’auteurs différents. Cela permettrait de neutraliser la présence de noms de lieux, de personnages, etc.\n",
        "-   Comparer avec d’autres algorithmes de classification qu’un SVM\n",
        "-   (Avancé) : fine-tuner le modèle d’embeddings contextuels sur la tâche de classification"
      ],
      "id": "a0d827fb-0680-4ab0-b86a-f9a4d5fdc493"
    }
  ],
  "nbformat": 4,
  "nbformat_minor": 5,
  "metadata": {
    "kernelspec": {
      "name": "python3",
      "display_name": "Python 3 (ipykernel)",
      "language": "python"
    },
    "language_info": {
      "name": "python",
      "codemirror_mode": {
        "name": "ipython",
        "version": "3"
      },
      "file_extension": ".py",
      "mimetype": "text/x-python",
      "nbconvert_exporter": "python",
      "pygments_lexer": "ipython3",
      "version": "3.9.13"
    },
    "colab": {
      "provenance": []
    },
    "widgets": {
      "application/vnd.jupyter.widget-state+json": {
        "959fd0341e6043678365dd0294dd6f56": {
          "model_module": "@jupyter-widgets/controls",
          "model_name": "HBoxModel",
          "model_module_version": "1.5.0",
          "state": {
            "_dom_classes": [],
            "_model_module": "@jupyter-widgets/controls",
            "_model_module_version": "1.5.0",
            "_model_name": "HBoxModel",
            "_view_count": null,
            "_view_module": "@jupyter-widgets/controls",
            "_view_module_version": "1.5.0",
            "_view_name": "HBoxView",
            "box_style": "",
            "children": [
              "IPY_MODEL_cadbef2203c74506a1d689c455b5437b",
              "IPY_MODEL_00e18d685d4d49a096bdf7969bc5303c",
              "IPY_MODEL_14011fd9340f42f8905688903b33add4"
            ],
            "layout": "IPY_MODEL_564c7b1a35424db6a7cf3554e982da04"
          }
        },
        "cadbef2203c74506a1d689c455b5437b": {
          "model_module": "@jupyter-widgets/controls",
          "model_name": "HTMLModel",
          "model_module_version": "1.5.0",
          "state": {
            "_dom_classes": [],
            "_model_module": "@jupyter-widgets/controls",
            "_model_module_version": "1.5.0",
            "_model_name": "HTMLModel",
            "_view_count": null,
            "_view_module": "@jupyter-widgets/controls",
            "_view_module_version": "1.5.0",
            "_view_name": "HTMLView",
            "description": "",
            "description_tooltip": null,
            "layout": "IPY_MODEL_1b70115eeb674404a906a2b3a49680af",
            "placeholder": "​",
            "style": "IPY_MODEL_ae9eac63948b4b69b42e56fcf666807e",
            "value": ""
          }
        },
        "00e18d685d4d49a096bdf7969bc5303c": {
          "model_module": "@jupyter-widgets/controls",
          "model_name": "FloatProgressModel",
          "model_module_version": "1.5.0",
          "state": {
            "_dom_classes": [],
            "_model_module": "@jupyter-widgets/controls",
            "_model_module_version": "1.5.0",
            "_model_name": "FloatProgressModel",
            "_view_count": null,
            "_view_module": "@jupyter-widgets/controls",
            "_view_module_version": "1.5.0",
            "_view_name": "ProgressView",
            "bar_style": "success",
            "description": "",
            "description_tooltip": null,
            "layout": "IPY_MODEL_988902b4828f45a9af6fd87dea3a3a71",
            "max": 1,
            "min": 0,
            "orientation": "horizontal",
            "style": "IPY_MODEL_ddf90cf2f2c448988edb4f99064580c2",
            "value": 0
          }
        },
        "14011fd9340f42f8905688903b33add4": {
          "model_module": "@jupyter-widgets/controls",
          "model_name": "HTMLModel",
          "model_module_version": "1.5.0",
          "state": {
            "_dom_classes": [],
            "_model_module": "@jupyter-widgets/controls",
            "_model_module_version": "1.5.0",
            "_model_name": "HTMLModel",
            "_view_count": null,
            "_view_module": "@jupyter-widgets/controls",
            "_view_module_version": "1.5.0",
            "_view_name": "HTMLView",
            "description": "",
            "description_tooltip": null,
            "layout": "IPY_MODEL_b5004edcb4364a96bce36e5723545b02",
            "placeholder": "​",
            "style": "IPY_MODEL_6c4ce369d7984a9f95827315a3ad1c79",
            "value": " 0/0 [00:00&lt;?, ?it/s]"
          }
        },
        "564c7b1a35424db6a7cf3554e982da04": {
          "model_module": "@jupyter-widgets/base",
          "model_name": "LayoutModel",
          "model_module_version": "1.2.0",
          "state": {
            "_model_module": "@jupyter-widgets/base",
            "_model_module_version": "1.2.0",
            "_model_name": "LayoutModel",
            "_view_count": null,
            "_view_module": "@jupyter-widgets/base",
            "_view_module_version": "1.2.0",
            "_view_name": "LayoutView",
            "align_content": null,
            "align_items": null,
            "align_self": null,
            "border": null,
            "bottom": null,
            "display": null,
            "flex": null,
            "flex_flow": null,
            "grid_area": null,
            "grid_auto_columns": null,
            "grid_auto_flow": null,
            "grid_auto_rows": null,
            "grid_column": null,
            "grid_gap": null,
            "grid_row": null,
            "grid_template_areas": null,
            "grid_template_columns": null,
            "grid_template_rows": null,
            "height": null,
            "justify_content": null,
            "justify_items": null,
            "left": null,
            "margin": null,
            "max_height": null,
            "max_width": null,
            "min_height": null,
            "min_width": null,
            "object_fit": null,
            "object_position": null,
            "order": null,
            "overflow": null,
            "overflow_x": null,
            "overflow_y": null,
            "padding": null,
            "right": null,
            "top": null,
            "visibility": null,
            "width": null
          }
        },
        "1b70115eeb674404a906a2b3a49680af": {
          "model_module": "@jupyter-widgets/base",
          "model_name": "LayoutModel",
          "model_module_version": "1.2.0",
          "state": {
            "_model_module": "@jupyter-widgets/base",
            "_model_module_version": "1.2.0",
            "_model_name": "LayoutModel",
            "_view_count": null,
            "_view_module": "@jupyter-widgets/base",
            "_view_module_version": "1.2.0",
            "_view_name": "LayoutView",
            "align_content": null,
            "align_items": null,
            "align_self": null,
            "border": null,
            "bottom": null,
            "display": null,
            "flex": null,
            "flex_flow": null,
            "grid_area": null,
            "grid_auto_columns": null,
            "grid_auto_flow": null,
            "grid_auto_rows": null,
            "grid_column": null,
            "grid_gap": null,
            "grid_row": null,
            "grid_template_areas": null,
            "grid_template_columns": null,
            "grid_template_rows": null,
            "height": null,
            "justify_content": null,
            "justify_items": null,
            "left": null,
            "margin": null,
            "max_height": null,
            "max_width": null,
            "min_height": null,
            "min_width": null,
            "object_fit": null,
            "object_position": null,
            "order": null,
            "overflow": null,
            "overflow_x": null,
            "overflow_y": null,
            "padding": null,
            "right": null,
            "top": null,
            "visibility": null,
            "width": null
          }
        },
        "ae9eac63948b4b69b42e56fcf666807e": {
          "model_module": "@jupyter-widgets/controls",
          "model_name": "DescriptionStyleModel",
          "model_module_version": "1.5.0",
          "state": {
            "_model_module": "@jupyter-widgets/controls",
            "_model_module_version": "1.5.0",
            "_model_name": "DescriptionStyleModel",
            "_view_count": null,
            "_view_module": "@jupyter-widgets/base",
            "_view_module_version": "1.2.0",
            "_view_name": "StyleView",
            "description_width": ""
          }
        },
        "988902b4828f45a9af6fd87dea3a3a71": {
          "model_module": "@jupyter-widgets/base",
          "model_name": "LayoutModel",
          "model_module_version": "1.2.0",
          "state": {
            "_model_module": "@jupyter-widgets/base",
            "_model_module_version": "1.2.0",
            "_model_name": "LayoutModel",
            "_view_count": null,
            "_view_module": "@jupyter-widgets/base",
            "_view_module_version": "1.2.0",
            "_view_name": "LayoutView",
            "align_content": null,
            "align_items": null,
            "align_self": null,
            "border": null,
            "bottom": null,
            "display": null,
            "flex": null,
            "flex_flow": null,
            "grid_area": null,
            "grid_auto_columns": null,
            "grid_auto_flow": null,
            "grid_auto_rows": null,
            "grid_column": null,
            "grid_gap": null,
            "grid_row": null,
            "grid_template_areas": null,
            "grid_template_columns": null,
            "grid_template_rows": null,
            "height": null,
            "justify_content": null,
            "justify_items": null,
            "left": null,
            "margin": null,
            "max_height": null,
            "max_width": null,
            "min_height": null,
            "min_width": null,
            "object_fit": null,
            "object_position": null,
            "order": null,
            "overflow": null,
            "overflow_x": null,
            "overflow_y": null,
            "padding": null,
            "right": null,
            "top": null,
            "visibility": null,
            "width": "20px"
          }
        },
        "ddf90cf2f2c448988edb4f99064580c2": {
          "model_module": "@jupyter-widgets/controls",
          "model_name": "ProgressStyleModel",
          "model_module_version": "1.5.0",
          "state": {
            "_model_module": "@jupyter-widgets/controls",
            "_model_module_version": "1.5.0",
            "_model_name": "ProgressStyleModel",
            "_view_count": null,
            "_view_module": "@jupyter-widgets/base",
            "_view_module_version": "1.2.0",
            "_view_name": "StyleView",
            "bar_color": null,
            "description_width": ""
          }
        },
        "b5004edcb4364a96bce36e5723545b02": {
          "model_module": "@jupyter-widgets/base",
          "model_name": "LayoutModel",
          "model_module_version": "1.2.0",
          "state": {
            "_model_module": "@jupyter-widgets/base",
            "_model_module_version": "1.2.0",
            "_model_name": "LayoutModel",
            "_view_count": null,
            "_view_module": "@jupyter-widgets/base",
            "_view_module_version": "1.2.0",
            "_view_name": "LayoutView",
            "align_content": null,
            "align_items": null,
            "align_self": null,
            "border": null,
            "bottom": null,
            "display": null,
            "flex": null,
            "flex_flow": null,
            "grid_area": null,
            "grid_auto_columns": null,
            "grid_auto_flow": null,
            "grid_auto_rows": null,
            "grid_column": null,
            "grid_gap": null,
            "grid_row": null,
            "grid_template_areas": null,
            "grid_template_columns": null,
            "grid_template_rows": null,
            "height": null,
            "justify_content": null,
            "justify_items": null,
            "left": null,
            "margin": null,
            "max_height": null,
            "max_width": null,
            "min_height": null,
            "min_width": null,
            "object_fit": null,
            "object_position": null,
            "order": null,
            "overflow": null,
            "overflow_x": null,
            "overflow_y": null,
            "padding": null,
            "right": null,
            "top": null,
            "visibility": null,
            "width": null
          }
        },
        "6c4ce369d7984a9f95827315a3ad1c79": {
          "model_module": "@jupyter-widgets/controls",
          "model_name": "DescriptionStyleModel",
          "model_module_version": "1.5.0",
          "state": {
            "_model_module": "@jupyter-widgets/controls",
            "_model_module_version": "1.5.0",
            "_model_name": "DescriptionStyleModel",
            "_view_count": null,
            "_view_module": "@jupyter-widgets/base",
            "_view_module_version": "1.2.0",
            "_view_name": "StyleView",
            "description_width": ""
          }
        }
      }
    }
  }
}